{
 "cells": [
  {
   "cell_type": "markdown",
   "metadata": {},
   "source": [
    "# Assignment 10\n",
    "\n",
    "Please fill in blanks in the *Answer* sections of this notebook. To check your answer for a problem, run the Setup, Answer, and Result sections. DO NOT MODIFY SETUP OR RESULT CELLS. See the [README](https://github.com/mortonne/datascipsych) for instructions on setting up a Python environment to run this notebook.\n",
    "\n",
    "Write your answers for each problem. Then restart the kernel, run all cells, and then save the notebook. Upload your notebook to Canvas.\n",
    "\n",
    "If you get stuck, read through the other notebooks in this directory, ask us for help in class, or ask other students for help in class or on the weekly discussion board."
   ]
  },
  {
   "cell_type": "markdown",
   "metadata": {},
   "source": [
    "## Problem: making a bar plot (2 points)\n",
    "\n",
    "### Calculate mean response by trial type (1 point)\n",
    "\n",
    "Read the `gen_recog.csv` file into a DataFrame. Calculate the mean response for each combination of subject and trial type. Save the result to a variable called `response`.\n",
    "\n",
    "### Make a bar plot with error bars (1 point)\n",
    "\n",
    "Given your `response` DataFrame, use Seaborn's `catplot` function to create a bar plot with trial type on the x-axis and response on the y-axis, with error bars showing variability across subjects. You should have one bar for each trial type. Assign the `FacetGrid` output to a variable called `g1`."
   ]
  },
  {
   "cell_type": "markdown",
   "metadata": {},
   "source": [
    "### Setup"
   ]
  },
  {
   "cell_type": "code",
   "execution_count": 126,
   "metadata": {},
   "outputs": [],
   "source": [
    "import polars as pl\n",
    "import seaborn as sns\n",
    "from IPython.display import display\n",
    "response = None\n",
    "g1 = None"
   ]
  },
  {
   "cell_type": "markdown",
   "metadata": {},
   "source": [
    "### Answer"
   ]
  },
  {
   "cell_type": "code",
   "execution_count": 127,
   "metadata": {},
   "outputs": [
    {
     "data": {
      "image/png": "[encoded data removed]",
      "text/plain": [
       "<Figure size 311.111x300 with 1 Axes>"
      ]
     },
     "metadata": {},
     "output_type": "display_data"
    }
   ],
   "source": [
    "\n",
    "df = pl.read_csv(\"gen_recog.csv\")\n",
    "\n",
    "response = (\n",
    "    df.group_by([\"subject\", \"trial_type\"])\n",
    "      .agg(pl.col(\"response\").mean())\n",
    "      .sort([\"subject\", \"trial_type\"])\n",
    ")\n",
    "\n",
    "response_pd = response.to_pandas()\n",
    "\n",
    "import seaborn as sns\n",
    "g1 = sns.catplot(\n",
    "    data=response_pd,\n",
    "    x=\"trial_type\",\n",
    "    y=\"response\",\n",
    "    kind=\"bar\",\n",
    "    height=3\n",
    ")"
   ]
  },
  {
   "cell_type": "markdown",
   "metadata": {},
   "source": [
    "### Result"
   ]
  },
  {
   "cell_type": "code",
   "execution_count": 128,
   "metadata": {},
   "outputs": [
    {
     "data": {
      "text/html": [
       "<div><style>\n",
       ".dataframe > thead > tr,\n",
       ".dataframe > tbody > tr {\n",
       "  text-align: right;\n",
       "  white-space: pre-wrap;\n",
       "}\n",
       "</style>\n",
       "<small>shape: (5, 3)</small><table border=\"1\" class=\"dataframe\"><thead><tr><th>subject</th><th>trial_type</th><th>response</th></tr><tr><td>str</td><td>str</td><td>f64</td></tr></thead><tbody><tr><td>&quot;subj01&quot;</td><td>&quot;lure&quot;</td><td>0.208333</td></tr><tr><td>&quot;subj01&quot;</td><td>&quot;target&quot;</td><td>0.745</td></tr><tr><td>&quot;subj02&quot;</td><td>&quot;lure&quot;</td><td>0.156667</td></tr><tr><td>&quot;subj02&quot;</td><td>&quot;target&quot;</td><td>0.716667</td></tr><tr><td>&quot;subj03&quot;</td><td>&quot;lure&quot;</td><td>0.16</td></tr></tbody></table></div>"
      ],
      "text/plain": [
       "shape: (5, 3)\n",
       "┌─────────┬────────────┬──────────┐\n",
       "│ subject ┆ trial_type ┆ response │\n",
       "│ ---     ┆ ---        ┆ ---      │\n",
       "│ str     ┆ str        ┆ f64      │\n",
       "╞═════════╪════════════╪══════════╡\n",
       "│ subj01  ┆ lure       ┆ 0.208333 │\n",
       "│ subj01  ┆ target     ┆ 0.745    │\n",
       "│ subj02  ┆ lure       ┆ 0.156667 │\n",
       "│ subj02  ┆ target     ┆ 0.716667 │\n",
       "│ subj03  ┆ lure       ┆ 0.16     │\n",
       "└─────────┴────────────┴──────────┘"
      ]
     },
     "metadata": {},
     "output_type": "display_data"
    },
    {
     "name": "stdout",
     "output_type": "stream",
     "text": [
      "<seaborn.axisgrid.FacetGrid object at 0x0000022ABE8B6F60>\n"
     ]
    }
   ],
   "source": [
    "vars = [response, g1]\n",
    "if all([v is not None for v in vars]):\n",
    "    # this should print your variables\n",
    "    with pl.Config(tbl_rows=50):\n",
    "        display(response.sort(\"subject\", \"trial_type\").head())\n",
    "    print(g1)\n",
    "    \n",
    "    # this should not throw any errors\n",
    "    assert isinstance(g1, sns.FacetGrid)\n"
   ]
  },
  {
   "cell_type": "markdown",
   "metadata": {},
   "source": [
    "## Problem: making a histogram (2 points)\n",
    "\n",
    "Given the `response_study_time` DataFrame (defined below), use Seaborn's `displot` function to create three histograms in different columns showing how target responses vary across participants. Each histogram should have `response` on the x-axis and Count on the y-axis. Make one histogram for each of the study times (1, 2, or 4 seconds; this information is in the `study_time` column). You should have one figure with three subplots, each of which has one histogram showing counts of the `response` variable. Assign the output from `displot`, a `FacetGrid` object, to a variable called `g2`."
   ]
  },
  {
   "cell_type": "markdown",
   "metadata": {},
   "source": [
    "### Setup"
   ]
  },
  {
   "cell_type": "code",
   "execution_count": 129,
   "metadata": {},
   "outputs": [],
   "source": [
    "response_study_time = (\n",
    "    pl.read_csv(\"gen_recog.csv\")\n",
    "    .filter(pl.col(\"trial_type\") == \"target\")\n",
    "    .group_by(\"subject\", \"study_time\")\n",
    "    .agg(pl.col(\"response\").mean())\n",
    ")\n",
    "g2 = None"
   ]
  },
  {
   "cell_type": "markdown",
   "metadata": {},
   "source": [
    "### Answer"
   ]
  },
  {
   "cell_type": "code",
   "execution_count": 130,
   "metadata": {},
   "outputs": [
    {
     "data": {
      "image/png": "[encoded data removed]",
      "text/plain": [
       "<Figure size 1200x400 with 3 Axes>"
      ]
     },
     "metadata": {},
     "output_type": "display_data"
    }
   ],
   "source": [
    "import polars as pl\n",
    "import seaborn as sns\n",
    "import matplotlib.pyplot as plt\n",
    "\n",
    "\n",
    "response_study_time_pd = response_study_time.to_pandas()\n",
    "\n",
    "g2 = sns.displot(\n",
    "    data=response_study_time_pd,\n",
    "    x=\"response\",\n",
    "    col=\"study_time\",\n",
    "    kind=\"hist\",\n",
    "    height=4,\n",
    "    aspect=1\n",
    ")\n",
    "\n",
    "plt.show()\n"
   ]
  },
  {
   "cell_type": "markdown",
   "metadata": {},
   "source": [
    "### Result"
   ]
  },
  {
   "cell_type": "code",
   "execution_count": 131,
   "metadata": {},
   "outputs": [
    {
     "name": "stdout",
     "output_type": "stream",
     "text": [
      "<seaborn.axisgrid.FacetGrid object at 0x0000022ABE710380>\n"
     ]
    }
   ],
   "source": [
    "vars = [g2]\n",
    "if all([v is not None for v in vars]):\n",
    "    # this should print your variables\n",
    "    print(g2)\n",
    "    \n",
    "    # this should not throw any errors\n",
    "    assert isinstance(g2, sns.FacetGrid)"
   ]
  },
  {
   "cell_type": "markdown",
   "metadata": {},
   "source": [
    "## Problem: making a kernel density estimate plot (2 points)\n",
    "\n",
    "Given the `response_st` DataFrame (defined below), use Seaborn's `displot` function to create a kernel density estimate (KDE) plot showing how target responses vary based on whether items were studied for 1, 2, or 4 seconds. The x-axis should represent the `response` variable and the y-axis should indicate Density. Assign each study time to a different hue. Use the \"flare\" palette. You should have just one plot with multiple lines. Assign the output from `displot`, a `FacetGrid` object, to a variable called `g3`."
   ]
  },
  {
   "cell_type": "markdown",
   "metadata": {},
   "source": [
    "### Setup"
   ]
  },
  {
   "cell_type": "code",
   "execution_count": 132,
   "metadata": {},
   "outputs": [],
   "source": [
    "response_st = (\n",
    "    pl.read_csv(\"gen_recog.csv\")\n",
    "    .filter(pl.col(\"trial_type\") == \"target\")\n",
    "    .group_by(\"subject\", \"study_time\")\n",
    "    .agg(pl.col(\"response\").mean())\n",
    ")\n",
    "g3 = None"
   ]
  },
  {
   "cell_type": "markdown",
   "metadata": {},
   "source": [
    "### Answer"
   ]
  },
  {
   "cell_type": "code",
   "execution_count": 133,
   "metadata": {},
   "outputs": [
    {
     "data": {
      "image/png": "[encoded data removed]",
      "text/plain": [
       "<Figure size 587.986x500 with 1 Axes>"
      ]
     },
     "metadata": {},
     "output_type": "display_data"
    }
   ],
   "source": [
    "response_st_pd = response_st.to_pandas()\n",
    "\n",
    "g3 = sns.displot(\n",
    "    data=response_st_pd,\n",
    "    x=\"response\",\n",
    "    kind=\"kde\",\n",
    "    hue=\"study_time\",\n",
    "    palette=\"flare\"\n",
    ")\n"
   ]
  },
  {
   "cell_type": "markdown",
   "metadata": {},
   "source": [
    "### Result"
   ]
  },
  {
   "cell_type": "code",
   "execution_count": 134,
   "metadata": {},
   "outputs": [
    {
     "name": "stdout",
     "output_type": "stream",
     "text": [
      "<seaborn.axisgrid.FacetGrid object at 0x0000022ABE3F93A0>\n"
     ]
    }
   ],
   "source": [
    "vars = [g3]\n",
    "if all([v is not None for v in vars]):\n",
    "    # this should print your variables\n",
    "    print(g3)\n",
    "    \n",
    "    # this should not throw any errors\n",
    "    assert isinstance(g3, sns.FacetGrid)"
   ]
  },
  {
   "cell_type": "markdown",
   "metadata": {},
   "source": [
    "## Problem: making a grouped bar plot (2 points)\n",
    "\n",
    "### Make a grouped bar plot (1.5 points)\n",
    "\n",
    "Given the `response_st_tt` DataFrame (defined below), use Seaborn's `catplot` function to plot how \"old\" response rate varies with study time (1, 2, or 4 seconds) and trial type (target or lure). The study time should be shown on the x-axis and the trial type should correspond to hue. You should have one plot with six bars with error bars. Assign the `FacetGrid` output to a variabled called `g4`.\n",
    "\n",
    "### Set the axis labels (0.5 points)\n",
    "\n",
    "Use the `set_axis_labels` method of the FacetGrid to set the label of the x-axis to \"Study time (s)\" and the label of the y-axis to \"P(old)\"."
   ]
  },
  {
   "cell_type": "markdown",
   "metadata": {},
   "source": [
    "### Setup"
   ]
  },
  {
   "cell_type": "code",
   "execution_count": 135,
   "metadata": {},
   "outputs": [],
   "source": [
    "response_st_tt = (\n",
    "    pl.read_csv(\"gen_recog.csv\")\n",
    "    .group_by(\"subject\", \"study_time\", \"trial_type\")\n",
    "    .agg(pl.col(\"response\").mean())\n",
    ")\n",
    "g4 = None"
   ]
  },
  {
   "cell_type": "markdown",
   "metadata": {},
   "source": [
    "### Answer"
   ]
  },
  {
   "cell_type": "code",
   "execution_count": 136,
   "metadata": {},
   "outputs": [
    {
     "data": {
      "text/plain": [
       "<seaborn.axisgrid.FacetGrid at 0x22abe2cf290>"
      ]
     },
     "execution_count": 136,
     "metadata": {},
     "output_type": "execute_result"
    },
    {
     "data": {
      "image/png": "[encoded data removed]",
      "text/plain": [
       "<Figure size 592.5x500 with 1 Axes>"
      ]
     },
     "metadata": {},
     "output_type": "display_data"
    }
   ],
   "source": [
    "response_st_tt_pd = response_st_tt.to_pandas()\n",
    "\n",
    "g4 = sns.catplot(\n",
    "    data=response_st_tt_pd,\n",
    "    x=\"study_time\",\n",
    "    y=\"response\",\n",
    "    hue=\"trial_type\",\n",
    "    kind=\"bar\",\n",
    "    errorbar=\"sd\"\n",
    ")\n",
    "\n",
    "g4.set_axis_labels(\"Study time (s)\", \"P(old)\")\n"
   ]
  },
  {
   "cell_type": "markdown",
   "metadata": {},
   "source": [
    "### Result"
   ]
  },
  {
   "cell_type": "code",
   "execution_count": 137,
   "metadata": {},
   "outputs": [
    {
     "name": "stdout",
     "output_type": "stream",
     "text": [
      "<seaborn.axisgrid.FacetGrid object at 0x0000022ABE2CF290>\n"
     ]
    }
   ],
   "source": [
    "vars = [g4]\n",
    "if all([v is not None for v in vars]):\n",
    "    # this should print your variables\n",
    "    print(g4)\n",
    "    \n",
    "    # this should not throw any errors\n",
    "    assert isinstance(g4, sns.FacetGrid)"
   ]
  },
  {
   "cell_type": "markdown",
   "metadata": {},
   "source": [
    "## Problem: making a grid of line plots (2 points)\n",
    "\n",
    "### Make a line plot (1.5 points)\n",
    "\n",
    "Given the `response_st_tt_it` DataFrame (defined below), use Seaborn's `relplot` function to make a line plot showing how \"old\" response rate varies with study time (1, 2, or 4 seconds), trial type (target or lure), and item type (word or picture). The study time should be shown on the x-axis, trial type should correspond to hue, and column should correspond to item type. You should have two plots, each of which should have two lines. Assign the `FacetGrid` output to a variabled called `g5`.\n",
    "\n",
    "### Set the limit of the y-axis (0.5 points)\n",
    "\n",
    "Use the `set` method of the FacetGrid with the `ylim` input to set the limits of the y-axis to range from 0 to 1."
   ]
  },
  {
   "cell_type": "markdown",
   "metadata": {},
   "source": [
    "### Setup"
   ]
  },
  {
   "cell_type": "code",
   "execution_count": 138,
   "metadata": {},
   "outputs": [],
   "source": [
    "response_st_tt_it = (\n",
    "    pl.read_csv(\"gen_recog.csv\")\n",
    "    .group_by(\"subject\", \"study_time\", \"trial_type\", \"item_type\")\n",
    "    .agg(pl.col(\"response\").mean())\n",
    ")\n",
    "g5 = None"
   ]
  },
  {
   "cell_type": "markdown",
   "metadata": {},
   "source": [
    "### Answer"
   ]
  },
  {
   "cell_type": "code",
   "execution_count": 139,
   "metadata": {},
   "outputs": [
    {
     "data": {
      "image/png": "[encoded data removed]",
      "text/plain": [
       "<Figure size 1092.5x500 with 2 Axes>"
      ]
     },
     "metadata": {},
     "output_type": "display_data"
    }
   ],
   "source": [
    "import polars as pl\n",
    "import seaborn as sns\n",
    "import matplotlib.pyplot as plt\n",
    "\n",
    "response_st_tt_it = (\n",
    "    pl.read_csv(\"gen_recog.csv\")\n",
    "    .group_by([\"subject\", \"study_time\", \"trial_type\", \"item_type\"])\n",
    "    .agg(pl.col(\"response\").mean())\n",
    ")\n",
    "\n",
    "response_st_tt_it_pd = response_st_tt_it.to_pandas()\n",
    "\n",
    "g5 = sns.relplot(\n",
    "    data=response_st_tt_it_pd,\n",
    "    x=\"study_time\",\n",
    "    y=\"response\",\n",
    "    hue=\"trial_type\",\n",
    "    kind=\"line\",\n",
    "    col=\"item_type\"\n",
    ")\n",
    "\n",
    "g5.set(ylim=(0, 1))\n",
    "\n",
    "plt.show()\n"
   ]
  },
  {
   "cell_type": "markdown",
   "metadata": {},
   "source": [
    "### Result"
   ]
  },
  {
   "cell_type": "code",
   "execution_count": 140,
   "metadata": {},
   "outputs": [
    {
     "name": "stdout",
     "output_type": "stream",
     "text": [
      "<seaborn.axisgrid.FacetGrid object at 0x0000022ABE24BF20>\n"
     ]
    }
   ],
   "source": [
    "vars = [g5]\n",
    "if all([v is not None for v in vars]):\n",
    "    # this should print your variables\n",
    "    print(g5)\n",
    "    \n",
    "    # this should not throw any errors\n",
    "    assert isinstance(g5, sns.FacetGrid)"
   ]
  },
  {
   "cell_type": "markdown",
   "metadata": {},
   "source": [
    "## Problem: making a scatter plot (2 points)\n",
    "\n",
    "### Reshape the data (0.5 points)\n",
    "\n",
    "The `perf` DataFrame defined below has corrected recognition performance, which is the hit rate minus the false alarm rate.\n",
    "\n",
    "Use the `pivot` method to create a new DataFrame with `subject`, `word`, and `picture` columns, with corrected recognition performance from the `performance` column of the `perf` DataFrame. There should be one row for each subject. Assign the pivoted DataFrame to a variable called `table`.\n",
    "\n",
    "### Create a scatter plot (1 point)\n",
    "\n",
    "Use Seaborn's `relplot` function to make a scatter plot of how corrected recognition performance in the picture condition (on the x-axis) varies with corrected recognition performance in the word condition (on the y-axis).\n",
    "\n",
    "### Set the axis limits (0.5 points)\n",
    "\n",
    "Use the `set` method of the `FacetGrid` with the `xlim` and `ylim` inputs to set both axis limits to range from 0.3 to 0.8."
   ]
  },
  {
   "cell_type": "markdown",
   "metadata": {},
   "source": [
    "### Setup"
   ]
  },
  {
   "cell_type": "code",
   "execution_count": 141,
   "metadata": {},
   "outputs": [],
   "source": [
    "perf = (\n",
    "    pl.read_csv(\"gen_recog.csv\")\n",
    "    .group_by(\"subject\", \"trial_type\", \"item_type\")\n",
    "    .agg(pl.col(\"response\").mean())\n",
    "    .pivot(\"trial_type\", index=[\"subject\", \"item_type\"], values=\"response\")\n",
    "    .with_columns(performance=pl.col(\"target\") - pl.col(\"lure\"))\n",
    ")\n",
    "g6 = None"
   ]
  },
  {
   "cell_type": "markdown",
   "metadata": {},
   "source": [
    "### Answer"
   ]
  },
  {
   "cell_type": "code",
   "execution_count": 142,
   "metadata": {},
   "outputs": [],
   "source": [
    "# your code here; it should display a plot"
   ]
  },
  {
   "cell_type": "markdown",
   "metadata": {},
   "source": [
    "### Result"
   ]
  },
  {
   "cell_type": "code",
   "execution_count": 143,
   "metadata": {},
   "outputs": [],
   "source": [
    "vars = [g6]\n",
    "if all([v is not None for v in vars]):\n",
    "    # this should print your variables\n",
    "    print(g6)\n",
    "    \n",
    "    # this should not throw any errors\n",
    "    assert isinstance(g6, sns.FacetGrid)"
   ]
  },
  {
   "cell_type": "markdown",
   "metadata": {},
   "source": [
    "## Problem (graduate students): using Seaborn's objects interface (2 points)\n",
    "\n",
    "Read about the new [objects interface](https://seaborn.pydata.org/tutorial/objects_interface.html) for Seaborn, which provides a more flexible way of creating plots with multiple layers.\n",
    "\n",
    "Use the objects interface with the `response_tt` DataFrame defined below to create a bar plot using the `Bar` mark and the `Agg` transformation, with trial type on the x-axis and response on the y-axis. \n",
    "\n",
    "You should have one plot with two bars. Set the label for the x-axis to \"Trial type\" and the label for the y-axis to \"P(old)\"."
   ]
  },
  {
   "cell_type": "markdown",
   "metadata": {},
   "source": [
    "### Setup"
   ]
  },
  {
   "cell_type": "code",
   "execution_count": 144,
   "metadata": {},
   "outputs": [],
   "source": [
    "import seaborn.objects as so\n",
    "response_tt = (\n",
    "    pl.read_csv(\"gen_recog.csv\")\n",
    "    .group_by(\"subject\", \"trial_type\")\n",
    "    .agg(pl.col(\"response\").mean())\n",
    ")"
   ]
  },
  {
   "cell_type": "markdown",
   "metadata": {},
   "source": [
    "### Answer"
   ]
  },
  {
   "cell_type": "code",
   "execution_count": 147,
   "metadata": {},
   "outputs": [
    {
     "data": {
      "text/plain": [
       "<seaborn.axisgrid.FacetGrid at 0x22ab9c3eb70>"
      ]
     },
     "execution_count": 147,
     "metadata": {},
     "output_type": "execute_result"
    },
    {
     "data": {
      "image/png": "[encoded data removed]",
      "text/plain": [
       "<Figure size 500x500 with 1 Axes>"
      ]
     },
     "metadata": {},
     "output_type": "display_data"
    }
   ],
   "source": [
    "table = perf.pivot(\n",
    "    values=\"performance\",\n",
    "    index=\"subject\",\n",
    "    on=\"item_type\"\n",
    ").to_pandas()\n",
    "\n",
    "g6 = sns.relplot(\n",
    "    data=table,\n",
    "    x=\"picture\",\n",
    "    y=\"word\",\n",
    "    kind=\"scatter\"\n",
    ")\n",
    "\n",
    "g6.set(xlim=(0.3, 0.8), ylim=(0.3, 0.8))\n"
   ]
  },
  {
   "cell_type": "markdown",
   "metadata": {},
   "source": [
    "### Result\n",
    "\n",
    "Your code should just create a plot; there is no other output to check."
   ]
  },
  {
   "cell_type": "markdown",
   "metadata": {},
   "source": [
    "## Problem (graduate students): making a strip plot (2 points)\n",
    "\n",
    "Create a strip plot using a `Dot` mark with the `Dodge` and `Jitter` operations (with a jitter of 0.3). See [this section](https://seaborn.pydata.org/tutorial/objects_interface.html#resolving-overplotting) of the documentation for an example of using jitter.\n",
    "\n",
    "Use the Seaborn objects interface with the `response_it_tt` DataFrame defined below to create a strip plot using the `Dot` mark with the `Dodge` and `jitter` operations (with 0.3 jitter), with study time on the x-axis, response on the y-axis, and trial type represented by color. Set the `alpha` property of the `Dot` mark to 0.5. Set the label for the x-axis to \"Item type\", the label for the y-axis to \"P(old)\", and the label for the color legend to \"Trial type\".\n",
    "\n",
    "You should have one plot with four groups of dots."
   ]
  },
  {
   "cell_type": "markdown",
   "metadata": {},
   "source": [
    "### Setup"
   ]
  },
  {
   "cell_type": "code",
   "execution_count": null,
   "metadata": {},
   "outputs": [],
   "source": [
    "response_it_tt = (\n",
    "    pl.read_csv(\"gen_recog.csv\")\n",
    "    .group_by(\"subject\", \"item_type\", \"trial_type\")\n",
    "    .agg(pl.col(\"response\").mean())\n",
    ")"
   ]
  },
  {
   "cell_type": "markdown",
   "metadata": {},
   "source": [
    "### Answer"
   ]
  },
  {
   "cell_type": "code",
   "execution_count": null,
   "metadata": {},
   "outputs": [],
   "source": [
    "# your code here; it should display a plot"
   ]
  },
  {
   "cell_type": "markdown",
   "metadata": {},
   "source": [
    "### Result\n",
    "\n",
    "Your code should just create a plot; there is no other output to check."
   ]
  },
  {
   "cell_type": "markdown",
   "metadata": {},
   "source": [
    "## Problem (graduate students): making bar plots with error bars (2 points)\n",
    "\n",
    "Create a set of bar plots with error bars. Use the `Bar` mark with `Agg` and `Dodge` to make the bars. To make the error bars, add a `Range` mark with the `Est` function and the `Dodge` operation. Use the default values of the `Est` function, which will generate 95% bootstrap confidence intervals. See [this section](https://seaborn.pydata.org/tutorial/objects_interface.html#creating-variables-through-transformation) of the documentation for an example of estimating error. To make subplots, use the `facet` method. See [this section](https://seaborn.pydata.org/tutorial/objects_interface.html#customizing-limits-labels-and-titles) for examples.\n",
    "\n",
    "Use the Seaborn objects interface with the `response_it_tt_st` DataFrame defined below to create a set of bar plots with error bars, using `Bar` and `Range` marks, with item type on the x-axis, response on the y-axis, trial type represented by color, and different study times plotted in different columns. Set the `linewidth` property of the `Range` mark to 4. Set the label for the x-axis to \"Item type\", the label for the y-axis to \"P(old)\", and the label for the color legend to \"Trial type\". Set the titles of the subplots to be \"1 s\", \"2 s\", and \"4 s\" using the `format` function (see [here](https://seaborn.pydata.org/tutorial/objects_interface.html#customizing-limits-labels-and-titles) for an example of this approach).\n",
    "\n",
    "You should have three plots in different columns, with four bars in each plot."
   ]
  },
  {
   "cell_type": "markdown",
   "metadata": {},
   "source": [
    "### Setup"
   ]
  },
  {
   "cell_type": "code",
   "execution_count": null,
   "metadata": {},
   "outputs": [],
   "source": [
    "response_it_tt_st = (\n",
    "    pl.read_csv(\"gen_recog.csv\")\n",
    "    .group_by(\"subject\", \"item_type\", \"trial_type\", \"study_time\")\n",
    "    .agg(pl.col(\"response\").mean())\n",
    ")"
   ]
  },
  {
   "cell_type": "markdown",
   "metadata": {},
   "source": [
    "### Answer"
   ]
  },
  {
   "cell_type": "code",
   "execution_count": null,
   "metadata": {},
   "outputs": [],
   "source": [
    "# your code here; it should display a plot"
   ]
  },
  {
   "cell_type": "markdown",
   "metadata": {},
   "source": [
    "### Result\n",
    "\n",
    "Your code should just create a plot; there is no other output to check."
   ]
  },
  {
   "cell_type": "markdown",
   "metadata": {},
   "source": [
    "## Problem (graduate students): making a plot with error and individual points (2 points)\n",
    "\n",
    "Make a composite plot with bars, error bars, and individual data points plotted in a strip. Use the `Shift` [function](https://seaborn.pydata.org/generated/seaborn.objects.Shift.html#seaborn.objects.Shift) to avoid overplotting the strip plots and the error bars.\n",
    "\n",
    "Use the Seaborn objects interface with the `response_it_tt` DataFrame defined below to create a composite plot with bars, error bars, and individual data points, with study time on the x-axis, respose on the y-axis, and trial type represented by color. Shift the error bars by 0.05 (to the right), and the points by -0.05 (to the left). Set the jitter to 0.05. Set the `alpha` property of the `Bar` mark to 0.4 to make the other elements easier to see. Set the `linewidth` property of the `Range` mark to 4. Set the label for the x-axis to \"Item type\", the label for the y-axis to \"P(old)\", and the label for the color legend to \"Trial type\".\n",
    "\n",
    "You should have one plot with four bars. Each bar should also have a strip plot showing individual points on the left side of the bar and an error bar on the right side of the bar showing the 95% bootstrap confidence interval."
   ]
  },
  {
   "cell_type": "markdown",
   "metadata": {},
   "source": [
    "### Setup"
   ]
  },
  {
   "cell_type": "code",
   "execution_count": null,
   "metadata": {},
   "outputs": [],
   "source": [
    "response_it_tt = (\n",
    "    pl.read_csv(\"gen_recog.csv\")\n",
    "    .group_by(\"subject\", \"item_type\", \"trial_type\")\n",
    "    .agg(pl.col(\"response\").mean())\n",
    ")"
   ]
  },
  {
   "cell_type": "markdown",
   "metadata": {},
   "source": [
    "### Answer"
   ]
  },
  {
   "cell_type": "code",
   "execution_count": null,
   "metadata": {},
   "outputs": [],
   "source": [
    "# your code here; it should display a plot"
   ]
  },
  {
   "cell_type": "markdown",
   "metadata": {},
   "source": [
    "### Result\n",
    "\n",
    "Your code should just create a plot; there is no other output to check."
   ]
  }
 ],
 "metadata": {
  "kernelspec": {
   "display_name": ".venv",
   "language": "python",
   "name": "python3"
  },
  "language_info": {
   "codemirror_mode": {
    "name": "ipython",
    "version": 3
   },
   "file_extension": ".py",
   "mimetype": "text/x-python",
   "name": "python",
   "nbconvert_exporter": "python",
   "pygments_lexer": "ipython3",
   "version": "3.12.10"
  }
 },
 "nbformat": 4,
 "nbformat_minor": 2
}
