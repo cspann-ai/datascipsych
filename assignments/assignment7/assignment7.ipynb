{
 "cells": [
  {
   "cell_type": "markdown",
   "metadata": {},
   "source": [
    "# Assignment 7\n",
    "\n",
    "Please fill in blanks in the *Answer* sections of this notebook. To check your answer for a problem, run the Setup, Answer, and Result sections. DO NOT MODIFY SETUP OR RESULT CELLS. See the [README](https://github.com/mortonne/datascipsych) for instructions on setting up a Python environment to run this notebook.\n",
    "\n",
    "Write your answers for each problem. Then restart the kernel, run all cells, and then save the notebook. Upload your notebook to Canvas.\n",
    "\n",
    "If you get stuck, read through the other notebooks in this directory, ask us for help in class, or ask other students for help in class or on the weekly discussion board."
   ]
  },
  {
   "cell_type": "markdown",
   "metadata": {},
   "source": [
    "## Problem: importing a DataFrame (2 points)\n",
    "\n",
    "### Import a CSV file (1 point)\n",
    "\n",
    "Import the `people.csv` file in this directory to a Polars DataFrame called `people`.\n",
    "\n",
    "### Convert a column to a NumPy array (1 point)\n",
    "\n",
    "Convert the `height` column to a NumPy array, stored in a variable called `height`."
   ]
  },
  {
   "cell_type": "markdown",
   "metadata": {},
   "source": [
    "### Setup"
   ]
  },
  {
   "cell_type": "code",
   "execution_count": 68,
   "metadata": {},
   "outputs": [],
   "source": [
    "import numpy as np\n",
    "import polars as pl\n",
    "people = None\n",
    "height = None\n"
   ]
  },
  {
   "cell_type": "markdown",
   "metadata": {},
   "source": [
    "### Answer"
   ]
  },
  {
   "cell_type": "code",
   "execution_count": 132,
   "metadata": {},
   "outputs": [],
   "source": [
    "# your code here\n",
    "import numpy as np\n",
    "import polars as pl\n",
    "people = pl.read_csv(\"people.csv\")\n",
    "x = people[\"height\"].to_numpy()\n",
    "height = x"
   ]
  },
  {
   "cell_type": "markdown",
   "metadata": {},
   "source": [
    "### Result"
   ]
  },
  {
   "cell_type": "code",
   "execution_count": 133,
   "metadata": {},
   "outputs": [
    {
     "name": "stdout",
     "output_type": "stream",
     "text": [
      "shape: (4, 4)\n",
      "┌────────────────┬────────────┬────────┬────────┐\n",
      "│ name           ┆ birthdate  ┆ weight ┆ height │\n",
      "│ ---            ┆ ---        ┆ ---    ┆ ---    │\n",
      "│ str            ┆ str        ┆ f64    ┆ f64    │\n",
      "╞════════════════╪════════════╪════════╪════════╡\n",
      "│ Alice Archer   ┆ 1997-01-10 ┆ 57.9   ┆ 1.56   │\n",
      "│ Ben Brown      ┆ 1985-02-15 ┆ 72.5   ┆ 1.77   │\n",
      "│ Chloe Cooper   ┆ 1983-03-22 ┆ 53.6   ┆ 1.65   │\n",
      "│ Daniel Donovan ┆ 1981-04-30 ┆ 83.1   ┆ 1.75   │\n",
      "└────────────────┴────────────┴────────┴────────┘\n",
      "[1.56 1.77 1.65 1.75]\n"
     ]
    }
   ],
   "source": [
    "vars = [people, height]\n",
    "if all([v is not None for v in vars]):\n",
    "    # this should print your variables\n",
    "    print(people)\n",
    "    print(height)\n",
    "\n",
    "    # this should not throw any errors\n",
    "    assert people[\"name\"].equals(\n",
    "        pl.Series([\"Alice Archer\", \"Ben Brown\", \"Chloe Cooper\", \"Daniel Donovan\"])\n",
    "    )\n",
    "    assert people[\"weight\"].equals(pl.Series([57.9, 72.5, 53.6, 83.1]))\n",
    "    assert np.array_equal(height, np.array([1.56, 1.77, 1.65, 1.75]))"
   ]
  },
  {
   "cell_type": "markdown",
   "metadata": {},
   "source": [
    "## Problem: creating a DataFrame (2 points)\n",
    "\n",
    "Create a DataFrame like the table below and assign it to a variable called `data`. The `trial_type` and `response` columns should be strings, and the `correct` column should have integers.\n",
    "\n",
    "| trial_type | response | correct |\n",
    "| ---------- | -------- | ------- |\n",
    "| target     | old      | 1       |\n",
    "| lure       | old      | 0       |\n",
    "| target     | new      | 0       |\n",
    "| lure       | new      | 1       |\n",
    "\n",
    "The DataFrame should have all the information from the table above (1 point), with the correct datatypes (1 point)."
   ]
  },
  {
   "cell_type": "markdown",
   "metadata": {},
   "source": [
    "### Setup"
   ]
  },
  {
   "cell_type": "code",
   "execution_count": 71,
   "metadata": {},
   "outputs": [],
   "source": [
    "data = None"
   ]
  },
  {
   "cell_type": "markdown",
   "metadata": {},
   "source": [
    "### Answer"
   ]
  },
  {
   "cell_type": "code",
   "execution_count": 98,
   "metadata": {},
   "outputs": [
    {
     "data": {
      "text/html": [
       "<div><style>\n",
       ".dataframe > thead > tr,\n",
       ".dataframe > tbody > tr {\n",
       "  text-align: right;\n",
       "  white-space: pre-wrap;\n",
       "}\n",
       "</style>\n",
       "<small>shape: (4, 3)</small><table border=\"1\" class=\"dataframe\"><thead><tr><th>trial_type</th><th>response</th><th>correct</th></tr><tr><td>str</td><td>str</td><td>i64</td></tr></thead><tbody><tr><td>&quot;target&quot;</td><td>&quot;old&quot;</td><td>1</td></tr><tr><td>&quot;lure&quot;</td><td>&quot;old&quot;</td><td>0</td></tr><tr><td>&quot;target&quot;</td><td>&quot;new&quot;</td><td>0</td></tr><tr><td>&quot;lure&quot;</td><td>&quot;new&quot;</td><td>1</td></tr></tbody></table></div>"
      ],
      "text/plain": [
       "shape: (4, 3)\n",
       "┌────────────┬──────────┬─────────┐\n",
       "│ trial_type ┆ response ┆ correct │\n",
       "│ ---        ┆ ---      ┆ ---     │\n",
       "│ str        ┆ str      ┆ i64     │\n",
       "╞════════════╪══════════╪═════════╡\n",
       "│ target     ┆ old      ┆ 1       │\n",
       "│ lure       ┆ old      ┆ 0       │\n",
       "│ target     ┆ new      ┆ 0       │\n",
       "│ lure       ┆ new      ┆ 1       │\n",
       "└────────────┴──────────┴─────────┘"
      ]
     },
     "execution_count": 98,
     "metadata": {},
     "output_type": "execute_result"
    }
   ],
   "source": [
    "# your code here\n",
    "data = pl.DataFrame(\n",
    "    {\"trial_type\": [\"target\", \"lure\", \"target\", \"lure\"],\n",
    "     \"response\": [\"old\", \"old\", \"new\", \"new\"],\n",
    "     \"correct\": [1, 0, 0, 1]}\n",
    ")\n",
    "data"
   ]
  },
  {
   "cell_type": "markdown",
   "metadata": {},
   "source": [
    "### Result"
   ]
  },
  {
   "cell_type": "code",
   "execution_count": 99,
   "metadata": {},
   "outputs": [
    {
     "name": "stdout",
     "output_type": "stream",
     "text": [
      "shape: (4, 3)\n",
      "┌────────────┬──────────┬─────────┐\n",
      "│ trial_type ┆ response ┆ correct │\n",
      "│ ---        ┆ ---      ┆ ---     │\n",
      "│ str        ┆ str      ┆ i64     │\n",
      "╞════════════╪══════════╪═════════╡\n",
      "│ target     ┆ old      ┆ 1       │\n",
      "│ lure       ┆ old      ┆ 0       │\n",
      "│ target     ┆ new      ┆ 0       │\n",
      "│ lure       ┆ new      ┆ 1       │\n",
      "└────────────┴──────────┴─────────┘\n"
     ]
    }
   ],
   "source": [
    "vars = [data]\n",
    "if all([v is not None for v in vars]):\n",
    "    # this should print your variables\n",
    "    print(data)\n",
    "\n",
    "    # this should not throw any errors\n",
    "    trial_type = np.array([\"target\", \"lure\", \"target\", \"lure\"])\n",
    "    assert np.array_equal(data[\"trial_type\"].to_numpy(), trial_type)\n",
    "    response = np.array([\"old\", \"old\", \"new\", \"new\"])\n",
    "    assert np.array_equal(data[\"response\"].to_numpy(), response)\n",
    "    assert np.array_equal(data[\"correct\"].to_numpy(), [1, 0, 0, 1])"
   ]
  },
  {
   "cell_type": "markdown",
   "metadata": {},
   "source": [
    "## Problem: using select (2 points)\n",
    "\n",
    "Given the Osth & Fox dataset (loaded below), use the select method to create a dataset called `subset` with these columns (in order): `subj`, `phase`, `cycle`, `type`."
   ]
  },
  {
   "cell_type": "markdown",
   "metadata": {},
   "source": [
    "### Setup"
   ]
  },
  {
   "cell_type": "code",
   "execution_count": 74,
   "metadata": {},
   "outputs": [],
   "source": [
    "df = pl.read_csv(\"exp1.csv\")\n",
    "subset = None"
   ]
  },
  {
   "cell_type": "markdown",
   "metadata": {},
   "source": [
    "### Answer"
   ]
  },
  {
   "cell_type": "code",
   "execution_count": 96,
   "metadata": {},
   "outputs": [
    {
     "data": {
      "text/html": [
       "<div><style>\n",
       ".dataframe > thead > tr,\n",
       ".dataframe > tbody > tr {\n",
       "  text-align: right;\n",
       "  white-space: pre-wrap;\n",
       "}\n",
       "</style>\n",
       "<small>shape: (107_443, 4)</small><table border=\"1\" class=\"dataframe\"><thead><tr><th>subj</th><th>phase</th><th>cycle</th><th>type</th></tr><tr><td>i64</td><td>str</td><td>i64</td><td>str</td></tr></thead><tbody><tr><td>101</td><td>&quot;study&quot;</td><td>0</td><td>&quot;intact&quot;</td></tr><tr><td>101</td><td>&quot;study&quot;</td><td>0</td><td>&quot;intact&quot;</td></tr><tr><td>101</td><td>&quot;study&quot;</td><td>0</td><td>&quot;intact&quot;</td></tr><tr><td>101</td><td>&quot;study&quot;</td><td>0</td><td>&quot;intact&quot;</td></tr><tr><td>101</td><td>&quot;study&quot;</td><td>0</td><td>&quot;intact&quot;</td></tr><tr><td>&hellip;</td><td>&hellip;</td><td>&hellip;</td><td>&hellip;</td></tr><tr><td>213</td><td>&quot;test&quot;</td><td>7</td><td>&quot;intact&quot;</td></tr><tr><td>213</td><td>&quot;test&quot;</td><td>7</td><td>&quot;rearranged&quot;</td></tr><tr><td>213</td><td>&quot;test&quot;</td><td>7</td><td>&quot;rearranged&quot;</td></tr><tr><td>213</td><td>&quot;test&quot;</td><td>7</td><td>&quot;rearranged&quot;</td></tr><tr><td>213</td><td>&quot;test&quot;</td><td>7</td><td>&quot;intact&quot;</td></tr></tbody></table></div>"
      ],
      "text/plain": [
       "shape: (107_443, 4)\n",
       "┌──────┬───────┬───────┬────────────┐\n",
       "│ subj ┆ phase ┆ cycle ┆ type       │\n",
       "│ ---  ┆ ---   ┆ ---   ┆ ---        │\n",
       "│ i64  ┆ str   ┆ i64   ┆ str        │\n",
       "╞══════╪═══════╪═══════╪════════════╡\n",
       "│ 101  ┆ study ┆ 0     ┆ intact     │\n",
       "│ 101  ┆ study ┆ 0     ┆ intact     │\n",
       "│ 101  ┆ study ┆ 0     ┆ intact     │\n",
       "│ 101  ┆ study ┆ 0     ┆ intact     │\n",
       "│ 101  ┆ study ┆ 0     ┆ intact     │\n",
       "│ …    ┆ …     ┆ …     ┆ …          │\n",
       "│ 213  ┆ test  ┆ 7     ┆ intact     │\n",
       "│ 213  ┆ test  ┆ 7     ┆ rearranged │\n",
       "│ 213  ┆ test  ┆ 7     ┆ rearranged │\n",
       "│ 213  ┆ test  ┆ 7     ┆ rearranged │\n",
       "│ 213  ┆ test  ┆ 7     ┆ intact     │\n",
       "└──────┴───────┴───────┴────────────┘"
      ]
     },
     "execution_count": 96,
     "metadata": {},
     "output_type": "execute_result"
    }
   ],
   "source": [
    "# your code here\n",
    "df = pl.read_csv(\"exp1.csv\")\n",
    "subset = df.select(\"subj\", \"phase\", \"cycle\", \"type\")\n",
    "subset\n"
   ]
  },
  {
   "cell_type": "markdown",
   "metadata": {},
   "source": [
    "### Result"
   ]
  },
  {
   "cell_type": "code",
   "execution_count": 97,
   "metadata": {},
   "outputs": [
    {
     "name": "stdout",
     "output_type": "stream",
     "text": [
      "shape: (107_443, 4)\n",
      "┌──────┬───────┬───────┬────────────┐\n",
      "│ subj ┆ phase ┆ cycle ┆ type       │\n",
      "│ ---  ┆ ---   ┆ ---   ┆ ---        │\n",
      "│ i64  ┆ str   ┆ i64   ┆ str        │\n",
      "╞══════╪═══════╪═══════╪════════════╡\n",
      "│ 101  ┆ study ┆ 0     ┆ intact     │\n",
      "│ 101  ┆ study ┆ 0     ┆ intact     │\n",
      "│ 101  ┆ study ┆ 0     ┆ intact     │\n",
      "│ 101  ┆ study ┆ 0     ┆ intact     │\n",
      "│ 101  ┆ study ┆ 0     ┆ intact     │\n",
      "│ …    ┆ …     ┆ …     ┆ …          │\n",
      "│ 213  ┆ test  ┆ 7     ┆ intact     │\n",
      "│ 213  ┆ test  ┆ 7     ┆ rearranged │\n",
      "│ 213  ┆ test  ┆ 7     ┆ rearranged │\n",
      "│ 213  ┆ test  ┆ 7     ┆ rearranged │\n",
      "│ 213  ┆ test  ┆ 7     ┆ intact     │\n",
      "└──────┴───────┴───────┴────────────┘\n"
     ]
    }
   ],
   "source": [
    "vars = [subset]\n",
    "if all([v is not None for v in vars]):\n",
    "    # this should print your variables\n",
    "    print(subset)\n",
    "\n",
    "    # this should not throw any errors\n",
    "    assert subset.shape == (107443, 4)\n",
    "    assert subset.columns == [\"subj\", \"phase\", \"cycle\", \"type\"]\n"
   ]
  },
  {
   "cell_type": "markdown",
   "metadata": {},
   "source": [
    "## Problem: using with_columns (2 points)\n",
    "\n",
    "Given the `people` DataFrame (defined below), which has height in meters in the `height_m` column, add another column with height in feet called `height_ft` (1 meter is 3.28 feet). Assign the modified DataFrame to a variable called `converted`. 1 point for having a correct `height_ft` column; 1 point for keeping all of the old columns in the `converted` DataFrame."
   ]
  },
  {
   "cell_type": "markdown",
   "metadata": {},
   "source": [
    "### Setup"
   ]
  },
  {
   "cell_type": "code",
   "execution_count": 77,
   "metadata": {},
   "outputs": [],
   "source": [
    "people = pl.DataFrame(\n",
    "    {\n",
    "        \"name\": [\"Alice Archer\", \"Ben Brown\", \"Chloe Cooper\", \"Daniel Donovan\"],\n",
    "        \"height_m\": [1.56, 1.77, 1.65, 1.75],\n",
    "    }\n",
    ")\n",
    "converted = None"
   ]
  },
  {
   "cell_type": "markdown",
   "metadata": {},
   "source": [
    "### Answer"
   ]
  },
  {
   "cell_type": "code",
   "execution_count": 78,
   "metadata": {},
   "outputs": [
    {
     "data": {
      "text/html": [
       "<div><style>\n",
       ".dataframe > thead > tr,\n",
       ".dataframe > tbody > tr {\n",
       "  text-align: right;\n",
       "  white-space: pre-wrap;\n",
       "}\n",
       "</style>\n",
       "<small>shape: (4, 3)</small><table border=\"1\" class=\"dataframe\"><thead><tr><th>name</th><th>height_m</th><th>height_ft</th></tr><tr><td>str</td><td>f64</td><td>f64</td></tr></thead><tbody><tr><td>&quot;Alice Archer&quot;</td><td>1.56</td><td>5.1168</td></tr><tr><td>&quot;Ben Brown&quot;</td><td>1.77</td><td>5.8056</td></tr><tr><td>&quot;Chloe Cooper&quot;</td><td>1.65</td><td>5.412</td></tr><tr><td>&quot;Daniel Donovan&quot;</td><td>1.75</td><td>5.74</td></tr></tbody></table></div>"
      ],
      "text/plain": [
       "shape: (4, 3)\n",
       "┌────────────────┬──────────┬───────────┐\n",
       "│ name           ┆ height_m ┆ height_ft │\n",
       "│ ---            ┆ ---      ┆ ---       │\n",
       "│ str            ┆ f64      ┆ f64       │\n",
       "╞════════════════╪══════════╪═══════════╡\n",
       "│ Alice Archer   ┆ 1.56     ┆ 5.1168    │\n",
       "│ Ben Brown      ┆ 1.77     ┆ 5.8056    │\n",
       "│ Chloe Cooper   ┆ 1.65     ┆ 5.412     │\n",
       "│ Daniel Donovan ┆ 1.75     ┆ 5.74      │\n",
       "└────────────────┴──────────┴───────────┘"
      ]
     },
     "execution_count": 78,
     "metadata": {},
     "output_type": "execute_result"
    }
   ],
   "source": [
    "# your code here\n",
    "people = pl.DataFrame(\n",
    "    {\n",
    "        \"name\": [\"Alice Archer\", \"Ben Brown\", \"Chloe Cooper\", \"Daniel Donovan\"],\n",
    "        \"height_m\": [1.56, 1.77, 1.65, 1.75],\n",
    "    }\n",
    ")\n",
    "converted = people.with_columns(\n",
    "    height_ft=pl.col(\"height_m\") * 3.28)\n",
    "\n",
    "converted\n"
   ]
  },
  {
   "cell_type": "markdown",
   "metadata": {},
   "source": [
    "### Result"
   ]
  },
  {
   "cell_type": "code",
   "execution_count": 94,
   "metadata": {},
   "outputs": [
    {
     "name": "stdout",
     "output_type": "stream",
     "text": [
      "shape: (4, 3)\n",
      "┌────────────────┬──────────┬───────────┐\n",
      "│ name           ┆ height_m ┆ height_ft │\n",
      "│ ---            ┆ ---      ┆ ---       │\n",
      "│ str            ┆ f64      ┆ f64       │\n",
      "╞════════════════╪══════════╪═══════════╡\n",
      "│ Alice Archer   ┆ 1.56     ┆ 5.1168    │\n",
      "│ Ben Brown      ┆ 1.77     ┆ 5.8056    │\n",
      "│ Chloe Cooper   ┆ 1.65     ┆ 5.412     │\n",
      "│ Daniel Donovan ┆ 1.75     ┆ 5.74      │\n",
      "└────────────────┴──────────┴───────────┘\n"
     ]
    }
   ],
   "source": [
    "vars = [converted]\n",
    "if all([v is not None for v in vars]):\n",
    "    # this should print your variables\n",
    "    print(converted)\n",
    "\n",
    "    # this should not throw any errors\n",
    "    assert \"name\" in converted\n",
    "    assert \"height_m\" in converted\n",
    "    assert converted[\"height_ft\"].round(2).equals(pl.Series([5.12, 5.81, 5.41, 5.74]))"
   ]
  },
  {
   "cell_type": "markdown",
   "metadata": {},
   "source": [
    "## Problem: using filter (2 points)\n",
    "\n",
    "Given the Osth & Fox dataset (loaded below), use the filter method to get trials where `subj` is `101` (1 point) and `phase` is `\"test\"` (1 point). Assign the filtered DataFrame to a variable called `filtered`."
   ]
  },
  {
   "cell_type": "markdown",
   "metadata": {},
   "source": [
    "### Setup"
   ]
  },
  {
   "cell_type": "code",
   "execution_count": 80,
   "metadata": {},
   "outputs": [],
   "source": [
    "df = pl.read_csv(\"exp1.csv\")\n",
    "filtered = None"
   ]
  },
  {
   "cell_type": "markdown",
   "metadata": {},
   "source": [
    "### Answer"
   ]
  },
  {
   "cell_type": "code",
   "execution_count": 82,
   "metadata": {},
   "outputs": [
    {
     "data": {
      "text/html": [
       "<div><style>\n",
       ".dataframe > thead > tr,\n",
       ".dataframe > tbody > tr {\n",
       "  text-align: right;\n",
       "  white-space: pre-wrap;\n",
       "}\n",
       "</style>\n",
       "<small>shape: (480, 16)</small><table border=\"1\" class=\"dataframe\"><thead><tr><th>cycle</th><th>trial</th><th>phase</th><th>type</th><th>word1</th><th>word2</th><th>response</th><th>RT</th><th>correct</th><th>lag</th><th>serPos1</th><th>serPos2</th><th>subj</th><th>intactLag</th><th>prevResponse</th><th>prevRT</th></tr><tr><td>i64</td><td>i64</td><td>str</td><td>str</td><td>str</td><td>str</td><td>i64</td><td>f64</td><td>i64</td><td>i64</td><td>i64</td><td>i64</td><td>i64</td><td>i64</td><td>i64</td><td>i64</td></tr></thead><tbody><tr><td>0</td><td>-1</td><td>&quot;test&quot;</td><td>&quot;rearranged&quot;</td><td>&quot;waste&quot;</td><td>&quot;degree&quot;</td><td>0</td><td>2.312</td><td>1</td><td>2</td><td>12</td><td>10</td><td>101</td><td>0</td><td>0</td><td>0</td></tr><tr><td>0</td><td>0</td><td>&quot;test&quot;</td><td>&quot;rearranged&quot;</td><td>&quot;needed&quot;</td><td>&quot;able&quot;</td><td>0</td><td>3.542</td><td>1</td><td>1</td><td>27</td><td>28</td><td>101</td><td>0</td><td>0</td><td>0</td></tr><tr><td>0</td><td>1</td><td>&quot;test&quot;</td><td>&quot;rearranged&quot;</td><td>&quot;single&quot;</td><td>&quot;clean&quot;</td><td>0</td><td>2.084</td><td>1</td><td>3</td><td>3</td><td>6</td><td>101</td><td>0</td><td>0</td><td>0</td></tr><tr><td>0</td><td>2</td><td>&quot;test&quot;</td><td>&quot;rearranged&quot;</td><td>&quot;train&quot;</td><td>&quot;useful&quot;</td><td>0</td><td>1.669</td><td>1</td><td>2</td><td>55</td><td>57</td><td>101</td><td>0</td><td>0</td><td>0</td></tr><tr><td>0</td><td>3</td><td>&quot;test&quot;</td><td>&quot;rearranged&quot;</td><td>&quot;knees&quot;</td><td>&quot;various&quot;</td><td>0</td><td>2.326</td><td>1</td><td>5</td><td>44</td><td>49</td><td>101</td><td>0</td><td>0</td><td>0</td></tr><tr><td>&hellip;</td><td>&hellip;</td><td>&hellip;</td><td>&hellip;</td><td>&hellip;</td><td>&hellip;</td><td>&hellip;</td><td>&hellip;</td><td>&hellip;</td><td>&hellip;</td><td>&hellip;</td><td>&hellip;</td><td>&hellip;</td><td>&hellip;</td><td>&hellip;</td><td>&hellip;</td></tr><tr><td>7</td><td>54</td><td>&quot;test&quot;</td><td>&quot;rearranged&quot;</td><td>&quot;plenty&quot;</td><td>&quot;period&quot;</td><td>0</td><td>1.861</td><td>1</td><td>3</td><td>0</td><td>3</td><td>101</td><td>0</td><td>0</td><td>0</td></tr><tr><td>7</td><td>55</td><td>&quot;test&quot;</td><td>&quot;intact&quot;</td><td>&quot;medical&quot;</td><td>&quot;within&quot;</td><td>0</td><td>1.075</td><td>0</td><td>-1</td><td>24</td><td>24</td><td>101</td><td>0</td><td>0</td><td>0</td></tr><tr><td>7</td><td>56</td><td>&quot;test&quot;</td><td>&quot;rearranged&quot;</td><td>&quot;challenge&quot;</td><td>&quot;solution&quot;</td><td>0</td><td>1.238</td><td>1</td><td>3</td><td>3</td><td>0</td><td>101</td><td>0</td><td>0</td><td>0</td></tr><tr><td>7</td><td>57</td><td>&quot;test&quot;</td><td>&quot;intact&quot;</td><td>&quot;language&quot;</td><td>&quot;thick&quot;</td><td>0</td><td>2.343</td><td>0</td><td>-1</td><td>57</td><td>57</td><td>101</td><td>0</td><td>0</td><td>0</td></tr><tr><td>7</td><td>58</td><td>&quot;test&quot;</td><td>&quot;intact&quot;</td><td>&quot;faces&quot;</td><td>&quot;schools&quot;</td><td>1</td><td>1.636</td><td>1</td><td>-1</td><td>1</td><td>1</td><td>101</td><td>-56</td><td>0</td><td>2</td></tr></tbody></table></div>"
      ],
      "text/plain": [
       "shape: (480, 16)\n",
       "┌───────┬───────┬───────┬────────────┬───┬──────┬───────────┬──────────────┬────────┐\n",
       "│ cycle ┆ trial ┆ phase ┆ type       ┆ … ┆ subj ┆ intactLag ┆ prevResponse ┆ prevRT │\n",
       "│ ---   ┆ ---   ┆ ---   ┆ ---        ┆   ┆ ---  ┆ ---       ┆ ---          ┆ ---    │\n",
       "│ i64   ┆ i64   ┆ str   ┆ str        ┆   ┆ i64  ┆ i64       ┆ i64          ┆ i64    │\n",
       "╞═══════╪═══════╪═══════╪════════════╪═══╪══════╪═══════════╪══════════════╪════════╡\n",
       "│ 0     ┆ -1    ┆ test  ┆ rearranged ┆ … ┆ 101  ┆ 0         ┆ 0            ┆ 0      │\n",
       "│ 0     ┆ 0     ┆ test  ┆ rearranged ┆ … ┆ 101  ┆ 0         ┆ 0            ┆ 0      │\n",
       "│ 0     ┆ 1     ┆ test  ┆ rearranged ┆ … ┆ 101  ┆ 0         ┆ 0            ┆ 0      │\n",
       "│ 0     ┆ 2     ┆ test  ┆ rearranged ┆ … ┆ 101  ┆ 0         ┆ 0            ┆ 0      │\n",
       "│ 0     ┆ 3     ┆ test  ┆ rearranged ┆ … ┆ 101  ┆ 0         ┆ 0            ┆ 0      │\n",
       "│ …     ┆ …     ┆ …     ┆ …          ┆ … ┆ …    ┆ …         ┆ …            ┆ …      │\n",
       "│ 7     ┆ 54    ┆ test  ┆ rearranged ┆ … ┆ 101  ┆ 0         ┆ 0            ┆ 0      │\n",
       "│ 7     ┆ 55    ┆ test  ┆ intact     ┆ … ┆ 101  ┆ 0         ┆ 0            ┆ 0      │\n",
       "│ 7     ┆ 56    ┆ test  ┆ rearranged ┆ … ┆ 101  ┆ 0         ┆ 0            ┆ 0      │\n",
       "│ 7     ┆ 57    ┆ test  ┆ intact     ┆ … ┆ 101  ┆ 0         ┆ 0            ┆ 0      │\n",
       "│ 7     ┆ 58    ┆ test  ┆ intact     ┆ … ┆ 101  ┆ -56       ┆ 0            ┆ 2      │\n",
       "└───────┴───────┴───────┴────────────┴───┴──────┴───────────┴──────────────┴────────┘"
      ]
     },
     "execution_count": 82,
     "metadata": {},
     "output_type": "execute_result"
    }
   ],
   "source": [
    "# your code here\n",
    "df = pl.read_csv(\"exp1.csv\")\n",
    "filtered = df.filter((pl.col(\"phase\") == \"test\") & (pl.col(\"subj\") == 101))\n",
    "filtered"
   ]
  },
  {
   "cell_type": "markdown",
   "metadata": {},
   "source": [
    "### Result"
   ]
  },
  {
   "cell_type": "code",
   "execution_count": 93,
   "metadata": {},
   "outputs": [
    {
     "name": "stdout",
     "output_type": "stream",
     "text": [
      "shape: (480, 16)\n",
      "┌───────┬───────┬───────┬────────────┬───┬──────┬───────────┬──────────────┬────────┐\n",
      "│ cycle ┆ trial ┆ phase ┆ type       ┆ … ┆ subj ┆ intactLag ┆ prevResponse ┆ prevRT │\n",
      "│ ---   ┆ ---   ┆ ---   ┆ ---        ┆   ┆ ---  ┆ ---       ┆ ---          ┆ ---    │\n",
      "│ i64   ┆ i64   ┆ str   ┆ str        ┆   ┆ i64  ┆ i64       ┆ i64          ┆ i64    │\n",
      "╞═══════╪═══════╪═══════╪════════════╪═══╪══════╪═══════════╪══════════════╪════════╡\n",
      "│ 0     ┆ -1    ┆ test  ┆ rearranged ┆ … ┆ 101  ┆ 0         ┆ 0            ┆ 0      │\n",
      "│ 0     ┆ 0     ┆ test  ┆ rearranged ┆ … ┆ 101  ┆ 0         ┆ 0            ┆ 0      │\n",
      "│ 0     ┆ 1     ┆ test  ┆ rearranged ┆ … ┆ 101  ┆ 0         ┆ 0            ┆ 0      │\n",
      "│ 0     ┆ 2     ┆ test  ┆ rearranged ┆ … ┆ 101  ┆ 0         ┆ 0            ┆ 0      │\n",
      "│ 0     ┆ 3     ┆ test  ┆ rearranged ┆ … ┆ 101  ┆ 0         ┆ 0            ┆ 0      │\n",
      "│ …     ┆ …     ┆ …     ┆ …          ┆ … ┆ …    ┆ …         ┆ …            ┆ …      │\n",
      "│ 7     ┆ 54    ┆ test  ┆ rearranged ┆ … ┆ 101  ┆ 0         ┆ 0            ┆ 0      │\n",
      "│ 7     ┆ 55    ┆ test  ┆ intact     ┆ … ┆ 101  ┆ 0         ┆ 0            ┆ 0      │\n",
      "│ 7     ┆ 56    ┆ test  ┆ rearranged ┆ … ┆ 101  ┆ 0         ┆ 0            ┆ 0      │\n",
      "│ 7     ┆ 57    ┆ test  ┆ intact     ┆ … ┆ 101  ┆ 0         ┆ 0            ┆ 0      │\n",
      "│ 7     ┆ 58    ┆ test  ┆ intact     ┆ … ┆ 101  ┆ -56       ┆ 0            ┆ 2      │\n",
      "└───────┴───────┴───────┴────────────┴───┴──────┴───────────┴──────────────┴────────┘\n"
     ]
    }
   ],
   "source": [
    "vars = [filtered]\n",
    "if all([v is not None for v in vars]):\n",
    "    # this should print your variables\n",
    "    print(filtered)\n",
    "\n",
    "    # this should not throw any errors\n",
    "    assert filtered.shape == (480, 16)\n",
    "    assert (filtered[\"subj\"] == 101).all()\n",
    "    assert (filtered[\"phase\"] == \"test\").all()"
   ]
  },
  {
   "cell_type": "markdown",
   "metadata": {},
   "source": [
    "## Problem: summary statistics (2 points)\n",
    "\n",
    "Given the `people` DataFrame defined below, create a new DataFrame with one row and two columns that has the mean weight and mean height across people. It should have correct `weight` and `height` columns (1 point), and no other columns (1 point). Assign this DataFrame to a variable called `stats`."
   ]
  },
  {
   "cell_type": "markdown",
   "metadata": {},
   "source": [
    "### Setup"
   ]
  },
  {
   "cell_type": "code",
   "execution_count": null,
   "metadata": {},
   "outputs": [],
   "source": [
    "people = pl.DataFrame(\n",
    "    {\n",
    "        \"name\": [\"Alice Archer\", \"Ben Brown\", \"Chloe Cooper\", \"Daniel Donovan\"],\n",
    "        \"weight\": [57.9, 72.5, 53.6, 83.1],  # (kg)\n",
    "        \"height\": [1.56, 1.77, 1.65, 1.75],  # (m)\n",
    "    }\n",
    ")\n",
    "stats = None"
   ]
  },
  {
   "cell_type": "markdown",
   "metadata": {},
   "source": [
    "### Answer"
   ]
  },
  {
   "cell_type": "code",
   "execution_count": 91,
   "metadata": {},
   "outputs": [
    {
     "data": {
      "text/html": [
       "<div><style>\n",
       ".dataframe > thead > tr,\n",
       ".dataframe > tbody > tr {\n",
       "  text-align: right;\n",
       "  white-space: pre-wrap;\n",
       "}\n",
       "</style>\n",
       "<small>shape: (1, 2)</small><table border=\"1\" class=\"dataframe\"><thead><tr><th>weight</th><th>height</th></tr><tr><td>f64</td><td>f64</td></tr></thead><tbody><tr><td>66.775</td><td>1.6825</td></tr></tbody></table></div>"
      ],
      "text/plain": [
       "shape: (1, 2)\n",
       "┌────────┬────────┐\n",
       "│ weight ┆ height │\n",
       "│ ---    ┆ ---    │\n",
       "│ f64    ┆ f64    │\n",
       "╞════════╪════════╡\n",
       "│ 66.775 ┆ 1.6825 │\n",
       "└────────┴────────┘"
      ]
     },
     "execution_count": 91,
     "metadata": {},
     "output_type": "execute_result"
    }
   ],
   "source": [
    "# your code here\n",
    "people = pl.DataFrame(\n",
    "    {\n",
    "        \"name\": [\"Alice Archer\", \"Ben Brown\", \"Chloe Cooper\", \"Daniel Donovan\"],\n",
    "        \"weight\": [57.9, 72.5, 53.6, 83.1],  # (kg)\n",
    "        \"height\": [1.56, 1.77, 1.65, 1.75],  # (m)\n",
    "    }\n",
    ")\n",
    "stats = people.select(pl.col(\"weight\", \"height\").mean())\n",
    "stats"
   ]
  },
  {
   "cell_type": "markdown",
   "metadata": {},
   "source": [
    "### Result"
   ]
  },
  {
   "cell_type": "code",
   "execution_count": 92,
   "metadata": {},
   "outputs": [
    {
     "name": "stdout",
     "output_type": "stream",
     "text": [
      "shape: (1, 2)\n",
      "┌────────┬────────┐\n",
      "│ weight ┆ height │\n",
      "│ ---    ┆ ---    │\n",
      "│ f64    ┆ f64    │\n",
      "╞════════╪════════╡\n",
      "│ 66.775 ┆ 1.6825 │\n",
      "└────────┴────────┘\n"
     ]
    }
   ],
   "source": [
    "vars = [stats]\n",
    "if all([v is not None for v in vars]):\n",
    "    # this should print your variables\n",
    "    print(stats)\n",
    "\n",
    "    # this should not throw any errors\n",
    "    assert stats.shape == (1, 2)\n",
    "    assert stats[\"weight\"].equals(pl.Series([66.775]))\n",
    "    assert stats[\"height\"].equals(pl.Series([1.6825]))"
   ]
  },
  {
   "cell_type": "markdown",
   "metadata": {},
   "source": [
    "## Problem (graduate students): working with dates (2 points)\n",
    "\n",
    "Read the `sessions.csv` file in this directory, parsing the dates in the `session1` and `session2` columns. Add a column called `delay` with the number of days separating sessions 1 and 2 (you should get a column with type `duration[ms]`), and a column called `score_change` with the difference between the `score2` and `score1` columns. Assign your new DataFrame to a variable called `result`.\n",
    "\n",
    "In Polars, time differences are represented with `duration` datatypes, which look like `duration[ms]` in this case. The unit in brackets refers to the *time unit* (here, milliseconds), which relates to how the data are stored. The time unit does not make a difference for the duration (you should get a difference in days)."
   ]
  },
  {
   "cell_type": "markdown",
   "metadata": {},
   "source": [
    "### Setup"
   ]
  },
  {
   "cell_type": "code",
   "execution_count": null,
   "metadata": {},
   "outputs": [],
   "source": [
    "result = None"
   ]
  },
  {
   "cell_type": "markdown",
   "metadata": {},
   "source": [
    "### Answer"
   ]
  },
  {
   "cell_type": "code",
   "execution_count": null,
   "metadata": {},
   "outputs": [],
   "source": [
    "# your code here"
   ]
  },
  {
   "cell_type": "markdown",
   "metadata": {},
   "source": [
    "### Result"
   ]
  },
  {
   "cell_type": "code",
   "execution_count": null,
   "metadata": {},
   "outputs": [],
   "source": [
    "from datetime import timedelta\n",
    "vars = [result]\n",
    "if all([v is not None for v in vars]):\n",
    "    # this should print your variables\n",
    "    print(result)\n",
    "\n",
    "    # this should not throw any errors\n",
    "    assert \"participant_id\" in result\n",
    "    assert result[\"delay\"].equals(pl.Series([timedelta(days=3), timedelta(days=5), timedelta(days=4)]))\n",
    "    assert result[\"score_change\"].equals(pl.Series([3, 7, 5]))\n"
   ]
  },
  {
   "cell_type": "markdown",
   "metadata": {},
   "source": [
    "## Problem (graduate students): lazy evaluation (2 points)\n",
    "\n",
    "Read about the [lazy API](https://docs.pola.rs/user-guide/concepts/lazy-api/) in Polars. Use the lazy API to scan `exp1.csv`, filter to get trials where `phase` equals `\"test\"`, select the `response` and `RT` columns, and calculate their means. Assign the result to a variable called `lazy_result`. All operations should be completed by one call to the `collect` method."
   ]
  },
  {
   "cell_type": "markdown",
   "metadata": {},
   "source": [
    "### Setup"
   ]
  },
  {
   "cell_type": "code",
   "execution_count": null,
   "metadata": {},
   "outputs": [],
   "source": [
    "lazy_result = None"
   ]
  },
  {
   "cell_type": "markdown",
   "metadata": {},
   "source": [
    "### Answer"
   ]
  },
  {
   "cell_type": "code",
   "execution_count": null,
   "metadata": {},
   "outputs": [],
   "source": [
    "# your code here"
   ]
  },
  {
   "cell_type": "markdown",
   "metadata": {},
   "source": [
    "### Result"
   ]
  },
  {
   "cell_type": "code",
   "execution_count": null,
   "metadata": {},
   "outputs": [],
   "source": [
    "vars = [lazy_result]\n",
    "if all([v is not None for v in vars]):\n",
    "    # this should print your variables\n",
    "    print(lazy_result)\n",
    "\n",
    "    # this should not throw any errors\n",
    "    assert lazy_result.shape == (1, 2)\n",
    "    assert lazy_result[\"response\"].round(2).equals(pl.Series([0.37]))\n",
    "    assert lazy_result[\"RT\"].round(2).equals(pl.Series([1.33]))\n"
   ]
  },
  {
   "cell_type": "markdown",
   "metadata": {},
   "source": [
    "## Problem (graduate students): expression expansion (2 points)\n",
    "\n",
    "Read about how [expression expansion](https://docs.pola.rs/user-guide/concepts/expressions-and-contexts/#expression-expansion) can be used to write one expression that operates on multiple columns. Given the `people` DataFrame defined below, use a call to `with_columns` with a single expression to calculate the means of the `weight` and `height` columns and place them in new columns named `mean_weight` and `mean_height`, respectively. Assign the resulting DataFrame to a variable called `stats_1expr`."
   ]
  },
  {
   "cell_type": "markdown",
   "metadata": {},
   "source": [
    "### Setup"
   ]
  },
  {
   "cell_type": "code",
   "execution_count": null,
   "metadata": {},
   "outputs": [],
   "source": [
    "people = pl.DataFrame(\n",
    "    {\n",
    "        \"name\": [\"Alice Archer\", \"Ben Brown\", \"Chloe Cooper\", \"Daniel Donovan\"],\n",
    "        \"weight\": [57.9, 72.5, 53.6, 83.1],  # (kg)\n",
    "        \"height\": [1.56, 1.77, 1.65, 1.75],  # (m)\n",
    "    }\n",
    ")\n",
    "stats_1expr = None"
   ]
  },
  {
   "cell_type": "markdown",
   "metadata": {},
   "source": [
    "### Answer"
   ]
  },
  {
   "cell_type": "code",
   "execution_count": null,
   "metadata": {},
   "outputs": [],
   "source": [
    "# your code here"
   ]
  },
  {
   "cell_type": "markdown",
   "metadata": {},
   "source": [
    "### Result"
   ]
  },
  {
   "cell_type": "code",
   "execution_count": null,
   "metadata": {},
   "outputs": [],
   "source": [
    "vars = [stats_1expr]\n",
    "if all([v is not None for v in vars]):\n",
    "    # this should print your variables\n",
    "    print(stats_1expr)\n",
    "\n",
    "    # this should not throw any errors\n",
    "    assert stats_1expr.shape == (4, 5)\n",
    "    assert stats_1expr[\"mean_weight\"].equals(pl.Series([66.775, 66.775, 66.775, 66.775]))\n",
    "    assert stats_1expr[\"mean_height\"].equals(pl.Series([1.6825, 1.6825, 1.6825, 1.6825]))\n"
   ]
  },
  {
   "cell_type": "markdown",
   "metadata": {},
   "source": [
    "## Problem (graduate students): viewing longer DataFrames in Jupyter (2 points)\n",
    "\n",
    "When viewing a DataFrame in Jupyter, the number of displayed rows will automatically be limited. The Polars package has configuration [options](https://docs.pola.rs/docs/python/version/0.18/reference/config.html) that are used to determine how DataFrames are displayed. Changing the `tbl_rows` option will change the number of rows displayed. There are two ways to change the configuration in Polars.\n",
    "\n",
    "One option is to change the configuration by calling one of the methods of `pl.Config`. For example:\n",
    "\n",
    "```python\n",
    "pl.Config.set_tbl_rows(50)\n",
    "```\n",
    "\n",
    "will change the `tbl_rows` option to set the maximum number of rows displayed to 50. This will be the setting until you change it back, for example by running:\n",
    "\n",
    "```python\n",
    "pl.Config.restore_defaults()\n",
    "```\n",
    "\n",
    "to restore the default options.\n",
    "\n",
    "Another option can be used to change the configuration just for the DataFrames where you want to see more rows. To change the configuration temporarily, you can use the [context manager](https://docs.pola.rs/docs/python/version/0.18/reference/config.html#use-as-a-context-manager). For example:\n",
    "\n",
    "```python\n",
    "with pl.Config(tbl_rows=50):\n",
    "    # for commands run here, the tbl_rows option is temporarily set to 50\n",
    "```\n",
    "\n",
    "The trick there is that DataFrames will not be normally displayed by Jupyter if they are inside a context manager. Instead of just putting the name of a DataFrame in the last line of a cell, for more flexibility you can use the `display` function from `IPython`. You can import it like this:\n",
    "\n",
    "```python\n",
    "from IPython.display import display\n",
    "```\n",
    "\n",
    "and then use `display(my_data_frame)` to show it as a nice table in Jupyter. This method will work even if the command is not the last line in a cell.\n",
    "\n",
    "Given the `df_test_cycle1` DataFrame set up below, which includes the first \"cycle\" of the test phase for the first participant, display all 60 rows in Jupyter using one of the methods described above (1 point). After your code runs, the Polars configuration should be back to its default value (1 point). Depending on the method you use, the configuration may be at its default value either because you restored the defaults, or because you used a context manager that only temporarily changed the option."
   ]
  },
  {
   "cell_type": "markdown",
   "metadata": {},
   "source": [
    "### Setup"
   ]
  },
  {
   "cell_type": "code",
   "execution_count": null,
   "metadata": {},
   "outputs": [],
   "source": [
    "df = pl.read_csv(\"exp1.csv\")\n",
    "df_test_cycle1 = df.filter(pl.col(\"phase\") == \"test\").head(60)"
   ]
  },
  {
   "cell_type": "markdown",
   "metadata": {},
   "source": [
    "### Answer"
   ]
  },
  {
   "cell_type": "code",
   "execution_count": null,
   "metadata": {},
   "outputs": [],
   "source": [
    "# your code here"
   ]
  },
  {
   "cell_type": "markdown",
   "metadata": {},
   "source": [
    "### Result"
   ]
  },
  {
   "cell_type": "code",
   "execution_count": null,
   "metadata": {},
   "outputs": [],
   "source": [
    "assert pl.Config.state()[\"POLARS_FMT_MAX_ROWS\"] is None, \"default options should be set\""
   ]
  }
 ],
 "metadata": {
  "kernelspec": {
   "display_name": "Python 3",
   "language": "python",
   "name": "python3"
  },
  "language_info": {
   "codemirror_mode": {
    "name": "ipython",
    "version": 3
   },
   "file_extension": ".py",
   "mimetype": "text/x-python",
   "name": "python",
   "nbconvert_exporter": "python",
   "pygments_lexer": "ipython3",
   "version": "3.12.9"
  }
 },
 "nbformat": 4,
 "nbformat_minor": 2
}
