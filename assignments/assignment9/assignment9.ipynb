{
 "cells": [
  {
   "cell_type": "markdown",
   "metadata": {},
   "source": [
    "# Assignment 9\n",
    "\n",
    "Please fill in blanks in the *Answer* sections of this notebook. To check your answer for a problem, run the Setup, Answer, and Result sections. DO NOT MODIFY SETUP OR RESULT CELLS. See the [README](https://github.com/mortonne/datascipsych) for instructions on setting up a Python environment to run this notebook.\n",
    "\n",
    "Write your answers for each problem. Then restart the kernel, run all cells, and then save the notebook. Upload your notebook to Canvas.\n",
    "\n",
    "If you get stuck, read through the other notebooks in this directory, ask us for help in class, or ask other students for help in class or on the weekly discussion board."
   ]
  },
  {
   "cell_type": "markdown",
   "metadata": {},
   "source": [
    "## Problem: working with null values (2 points)\n",
    "\n",
    "### Read a file with null values (1 point)\n",
    "\n",
    "Read the `study.csv` file in this directory using `pl.read_csv`. Use the optional `null_values` input to treat `n/a` entries as null. Assign the DataFrame to a variable called `study`.\n",
    "\n",
    "### Check the number of null values (1 point)\n",
    "\n",
    "Use a Polars function to get the number of null values in the `response` column and assign it to a variable called `null_responses`."
   ]
  },
  {
   "cell_type": "markdown",
   "metadata": {},
   "source": [
    "### Setup"
   ]
  },
  {
   "cell_type": "code",
   "execution_count": 7,
   "metadata": {},
   "outputs": [],
   "source": [
    "import numpy as np\n",
    "import polars as pl\n",
    "from IPython.display import display\n",
    "study = None\n",
    "null_responses = None"
   ]
  },
  {
   "cell_type": "markdown",
   "metadata": {},
   "source": [
    "### Answer"
   ]
  },
  {
   "cell_type": "code",
   "execution_count": 12,
   "metadata": {},
   "outputs": [
    {
     "data": {
      "text/plain": [
       "2"
      ]
     },
     "execution_count": 12,
     "metadata": {},
     "output_type": "execute_result"
    }
   ],
   "source": [
    "# your code here\n",
    "study = pl.read_csv(\"study.csv\", null_values=\"n/a\")\n",
    "null_responses = study[\"response\"].null_count()\n",
    "null_responses"
   ]
  },
  {
   "cell_type": "markdown",
   "metadata": {},
   "source": [
    "### Result"
   ]
  },
  {
   "cell_type": "code",
   "execution_count": 13,
   "metadata": {},
   "outputs": [
    {
     "data": {
      "text/html": [
       "<div><style>\n",
       ".dataframe > thead > tr,\n",
       ".dataframe > tbody > tr {\n",
       "  text-align: right;\n",
       "  white-space: pre-wrap;\n",
       "}\n",
       "</style>\n",
       "<small>shape: (24, 5)</small><table border=\"1\" class=\"dataframe\"><thead><tr><th>participant_id</th><th>trial_type</th><th>item_type</th><th>response</th><th>response_time</th></tr><tr><td>i64</td><td>str</td><td>i64</td><td>i64</td><td>f64</td></tr></thead><tbody><tr><td>1</td><td>&quot;target&quot;</td><td>1</td><td>1</td><td>1.5</td></tr><tr><td>1</td><td>&quot;lure&quot;</td><td>2</td><td>0</td><td>2.3</td></tr><tr><td>1</td><td>&quot;target&quot;</td><td>2</td><td>1</td><td>1.7</td></tr><tr><td>1</td><td>&quot;target&quot;</td><td>1</td><td>0</td><td>2.2</td></tr><tr><td>1</td><td>&quot;lure&quot;</td><td>2</td><td>1</td><td>1.8</td></tr><tr><td>1</td><td>&quot;lure&quot;</td><td>1</td><td>0</td><td>2.2</td></tr><tr><td>1</td><td>&quot;lure&quot;</td><td>1</td><td>null</td><td>null</td></tr><tr><td>1</td><td>&quot;target&quot;</td><td>2</td><td>1</td><td>1.6</td></tr><tr><td>2</td><td>&quot;lure&quot;</td><td>2</td><td>0</td><td>2.2</td></tr><tr><td>2</td><td>&quot;lure&quot;</td><td>1</td><td>1</td><td>1.9</td></tr><tr><td>2</td><td>&quot;target&quot;</td><td>1</td><td>1</td><td>1.2</td></tr><tr><td>2</td><td>&quot;target&quot;</td><td>2</td><td>0</td><td>1.5</td></tr><tr><td>2</td><td>&quot;lure&quot;</td><td>1</td><td>1</td><td>2.1</td></tr><tr><td>2</td><td>&quot;target&quot;</td><td>1</td><td>1</td><td>1.6</td></tr><tr><td>2</td><td>&quot;lure&quot;</td><td>2</td><td>0</td><td>2.3</td></tr><tr><td>2</td><td>&quot;target&quot;</td><td>2</td><td>1</td><td>1.4</td></tr><tr><td>3</td><td>&quot;lure&quot;</td><td>1</td><td>1</td><td>2.4</td></tr><tr><td>3</td><td>&quot;target&quot;</td><td>1</td><td>1</td><td>1.8</td></tr><tr><td>3</td><td>&quot;target&quot;</td><td>2</td><td>null</td><td>null</td></tr><tr><td>3</td><td>&quot;lure&quot;</td><td>2</td><td>1</td><td>2.5</td></tr><tr><td>3</td><td>&quot;target&quot;</td><td>2</td><td>1</td><td>1.6</td></tr><tr><td>3</td><td>&quot;lure&quot;</td><td>2</td><td>0</td><td>2.8</td></tr><tr><td>3</td><td>&quot;lure&quot;</td><td>1</td><td>0</td><td>2.4</td></tr><tr><td>3</td><td>&quot;target&quot;</td><td>1</td><td>1</td><td>1.9</td></tr></tbody></table></div>"
      ],
      "text/plain": [
       "shape: (24, 5)\n",
       "┌────────────────┬────────────┬───────────┬──────────┬───────────────┐\n",
       "│ participant_id ┆ trial_type ┆ item_type ┆ response ┆ response_time │\n",
       "│ ---            ┆ ---        ┆ ---       ┆ ---      ┆ ---           │\n",
       "│ i64            ┆ str        ┆ i64       ┆ i64      ┆ f64           │\n",
       "╞════════════════╪════════════╪═══════════╪══════════╪═══════════════╡\n",
       "│ 1              ┆ target     ┆ 1         ┆ 1        ┆ 1.5           │\n",
       "│ 1              ┆ lure       ┆ 2         ┆ 0        ┆ 2.3           │\n",
       "│ 1              ┆ target     ┆ 2         ┆ 1        ┆ 1.7           │\n",
       "│ 1              ┆ target     ┆ 1         ┆ 0        ┆ 2.2           │\n",
       "│ 1              ┆ lure       ┆ 2         ┆ 1        ┆ 1.8           │\n",
       "│ 1              ┆ lure       ┆ 1         ┆ 0        ┆ 2.2           │\n",
       "│ 1              ┆ lure       ┆ 1         ┆ null     ┆ null          │\n",
       "│ 1              ┆ target     ┆ 2         ┆ 1        ┆ 1.6           │\n",
       "│ 2              ┆ lure       ┆ 2         ┆ 0        ┆ 2.2           │\n",
       "│ 2              ┆ lure       ┆ 1         ┆ 1        ┆ 1.9           │\n",
       "│ 2              ┆ target     ┆ 1         ┆ 1        ┆ 1.2           │\n",
       "│ 2              ┆ target     ┆ 2         ┆ 0        ┆ 1.5           │\n",
       "│ 2              ┆ lure       ┆ 1         ┆ 1        ┆ 2.1           │\n",
       "│ 2              ┆ target     ┆ 1         ┆ 1        ┆ 1.6           │\n",
       "│ 2              ┆ lure       ┆ 2         ┆ 0        ┆ 2.3           │\n",
       "│ 2              ┆ target     ┆ 2         ┆ 1        ┆ 1.4           │\n",
       "│ 3              ┆ lure       ┆ 1         ┆ 1        ┆ 2.4           │\n",
       "│ 3              ┆ target     ┆ 1         ┆ 1        ┆ 1.8           │\n",
       "│ 3              ┆ target     ┆ 2         ┆ null     ┆ null          │\n",
       "│ 3              ┆ lure       ┆ 2         ┆ 1        ┆ 2.5           │\n",
       "│ 3              ┆ target     ┆ 2         ┆ 1        ┆ 1.6           │\n",
       "│ 3              ┆ lure       ┆ 2         ┆ 0        ┆ 2.8           │\n",
       "│ 3              ┆ lure       ┆ 1         ┆ 0        ┆ 2.4           │\n",
       "│ 3              ┆ target     ┆ 1         ┆ 1        ┆ 1.9           │\n",
       "└────────────────┴────────────┴───────────┴──────────┴───────────────┘"
      ]
     },
     "metadata": {},
     "output_type": "display_data"
    },
    {
     "name": "stdout",
     "output_type": "stream",
     "text": [
      "2\n"
     ]
    }
   ],
   "source": [
    "vars = [study, null_responses]\n",
    "if all([v is not None for v in vars]):\n",
    "    # this should print your variables\n",
    "    with pl.Config(tbl_rows=50):\n",
    "        display(study)\n",
    "    print(null_responses)\n",
    "\n",
    "    # this should not throw any errors\n",
    "    assert null_responses == 2\n",
    "    response = pl.Series(\n",
    "        [1, 0, 1, 0, 1, 0, None, 1, 0, 1, 1, 0, 1, 1, 0, 1, 1, 1, None, 1, 1, 0, 0, 1]\n",
    "    )\n",
    "    assert study[\"response\"].equals(response)"
   ]
  },
  {
   "cell_type": "markdown",
   "metadata": {},
   "source": [
    "## Problem: recoding variables (2 points)\n",
    "\n",
    "Take the `data` DataFrame (defined below) and recode the `item_type` column. Use Polars methods to replace that column with a version where `1` is now `\"word\"` and `2` is now `\"picture\"`. Assign the result to a variable called `recoded`."
   ]
  },
  {
   "cell_type": "markdown",
   "metadata": {},
   "source": [
    "### Setup"
   ]
  },
  {
   "cell_type": "code",
   "execution_count": 34,
   "metadata": {},
   "outputs": [
    {
     "data": {
      "text/html": [
       "<div><style>\n",
       ".dataframe > thead > tr,\n",
       ".dataframe > tbody > tr {\n",
       "  text-align: right;\n",
       "  white-space: pre-wrap;\n",
       "}\n",
       "</style>\n",
       "<small>shape: (5, 5)</small><table border=\"1\" class=\"dataframe\"><thead><tr><th>participant_id</th><th>trial_type</th><th>item_type</th><th>response</th><th>response_time</th></tr><tr><td>i64</td><td>str</td><td>i64</td><td>str</td><td>str</td></tr></thead><tbody><tr><td>1</td><td>&quot;target&quot;</td><td>1</td><td>&quot;1&quot;</td><td>&quot;1.5&quot;</td></tr><tr><td>1</td><td>&quot;lure&quot;</td><td>2</td><td>&quot;0&quot;</td><td>&quot;2.3&quot;</td></tr><tr><td>1</td><td>&quot;target&quot;</td><td>2</td><td>&quot;1&quot;</td><td>&quot;1.7&quot;</td></tr><tr><td>1</td><td>&quot;target&quot;</td><td>1</td><td>&quot;0&quot;</td><td>&quot;2.2&quot;</td></tr><tr><td>1</td><td>&quot;lure&quot;</td><td>2</td><td>&quot;1&quot;</td><td>&quot;1.8&quot;</td></tr></tbody></table></div>"
      ],
      "text/plain": [
       "shape: (5, 5)\n",
       "┌────────────────┬────────────┬───────────┬──────────┬───────────────┐\n",
       "│ participant_id ┆ trial_type ┆ item_type ┆ response ┆ response_time │\n",
       "│ ---            ┆ ---        ┆ ---       ┆ ---      ┆ ---           │\n",
       "│ i64            ┆ str        ┆ i64       ┆ str      ┆ str           │\n",
       "╞════════════════╪════════════╪═══════════╪══════════╪═══════════════╡\n",
       "│ 1              ┆ target     ┆ 1         ┆ 1        ┆ 1.5           │\n",
       "│ 1              ┆ lure       ┆ 2         ┆ 0        ┆ 2.3           │\n",
       "│ 1              ┆ target     ┆ 2         ┆ 1        ┆ 1.7           │\n",
       "│ 1              ┆ target     ┆ 1         ┆ 0        ┆ 2.2           │\n",
       "│ 1              ┆ lure       ┆ 2         ┆ 1        ┆ 1.8           │\n",
       "└────────────────┴────────────┴───────────┴──────────┴───────────────┘"
      ]
     },
     "execution_count": 34,
     "metadata": {},
     "output_type": "execute_result"
    }
   ],
   "source": [
    "data = pl.read_csv(\"study.csv\")\n",
    "recoded = None\n",
    "data.head()  # display part of the DataFrame for reference"
   ]
  },
  {
   "cell_type": "markdown",
   "metadata": {},
   "source": [
    "### Answer"
   ]
  },
  {
   "cell_type": "code",
   "execution_count": 39,
   "metadata": {},
   "outputs": [
    {
     "data": {
      "text/html": [
       "<div><style>\n",
       ".dataframe > thead > tr,\n",
       ".dataframe > tbody > tr {\n",
       "  text-align: right;\n",
       "  white-space: pre-wrap;\n",
       "}\n",
       "</style>\n",
       "<small>shape: (5, 5)</small><table border=\"1\" class=\"dataframe\"><thead><tr><th>participant_id</th><th>trial_type</th><th>item_type</th><th>response</th><th>response_time</th></tr><tr><td>i64</td><td>str</td><td>str</td><td>str</td><td>str</td></tr></thead><tbody><tr><td>1</td><td>&quot;target&quot;</td><td>&quot;word&quot;</td><td>&quot;1&quot;</td><td>&quot;1.5&quot;</td></tr><tr><td>1</td><td>&quot;lure&quot;</td><td>&quot;picture&quot;</td><td>&quot;0&quot;</td><td>&quot;2.3&quot;</td></tr><tr><td>1</td><td>&quot;target&quot;</td><td>&quot;picture&quot;</td><td>&quot;1&quot;</td><td>&quot;1.7&quot;</td></tr><tr><td>1</td><td>&quot;target&quot;</td><td>&quot;word&quot;</td><td>&quot;0&quot;</td><td>&quot;2.2&quot;</td></tr><tr><td>1</td><td>&quot;lure&quot;</td><td>&quot;picture&quot;</td><td>&quot;1&quot;</td><td>&quot;1.8&quot;</td></tr></tbody></table></div>"
      ],
      "text/plain": [
       "shape: (5, 5)\n",
       "┌────────────────┬────────────┬───────────┬──────────┬───────────────┐\n",
       "│ participant_id ┆ trial_type ┆ item_type ┆ response ┆ response_time │\n",
       "│ ---            ┆ ---        ┆ ---       ┆ ---      ┆ ---           │\n",
       "│ i64            ┆ str        ┆ str       ┆ str      ┆ str           │\n",
       "╞════════════════╪════════════╪═══════════╪══════════╪═══════════════╡\n",
       "│ 1              ┆ target     ┆ word      ┆ 1        ┆ 1.5           │\n",
       "│ 1              ┆ lure       ┆ picture   ┆ 0        ┆ 2.3           │\n",
       "│ 1              ┆ target     ┆ picture   ┆ 1        ┆ 1.7           │\n",
       "│ 1              ┆ target     ┆ word      ┆ 0        ┆ 2.2           │\n",
       "│ 1              ┆ lure       ┆ picture   ┆ 1        ┆ 1.8           │\n",
       "└────────────────┴────────────┴───────────┴──────────┴───────────────┘"
      ]
     },
     "execution_count": 39,
     "metadata": {},
     "output_type": "execute_result"
    }
   ],
   "source": [
    "# your code here\n",
    "recoded = data.with_columns(\n",
    "    pl.col(\"item_type\").cast(pl.String).replace({\"1\": \"word\",\"2\": \"picture\"})\n",
    ")\n",
    "recoded.head()"
   ]
  },
  {
   "cell_type": "markdown",
   "metadata": {},
   "source": [
    "### Result"
   ]
  },
  {
   "cell_type": "code",
   "execution_count": 40,
   "metadata": {},
   "outputs": [
    {
     "data": {
      "text/html": [
       "<div><style>\n",
       ".dataframe > thead > tr,\n",
       ".dataframe > tbody > tr {\n",
       "  text-align: right;\n",
       "  white-space: pre-wrap;\n",
       "}\n",
       "</style>\n",
       "<small>shape: (24, 5)</small><table border=\"1\" class=\"dataframe\"><thead><tr><th>participant_id</th><th>trial_type</th><th>item_type</th><th>response</th><th>response_time</th></tr><tr><td>i64</td><td>str</td><td>str</td><td>str</td><td>str</td></tr></thead><tbody><tr><td>1</td><td>&quot;target&quot;</td><td>&quot;word&quot;</td><td>&quot;1&quot;</td><td>&quot;1.5&quot;</td></tr><tr><td>1</td><td>&quot;lure&quot;</td><td>&quot;picture&quot;</td><td>&quot;0&quot;</td><td>&quot;2.3&quot;</td></tr><tr><td>1</td><td>&quot;target&quot;</td><td>&quot;picture&quot;</td><td>&quot;1&quot;</td><td>&quot;1.7&quot;</td></tr><tr><td>1</td><td>&quot;target&quot;</td><td>&quot;word&quot;</td><td>&quot;0&quot;</td><td>&quot;2.2&quot;</td></tr><tr><td>1</td><td>&quot;lure&quot;</td><td>&quot;picture&quot;</td><td>&quot;1&quot;</td><td>&quot;1.8&quot;</td></tr><tr><td>1</td><td>&quot;lure&quot;</td><td>&quot;word&quot;</td><td>&quot;0&quot;</td><td>&quot;2.2&quot;</td></tr><tr><td>1</td><td>&quot;lure&quot;</td><td>&quot;word&quot;</td><td>&quot;n/a&quot;</td><td>&quot;n/a&quot;</td></tr><tr><td>1</td><td>&quot;target&quot;</td><td>&quot;picture&quot;</td><td>&quot;1&quot;</td><td>&quot;1.6&quot;</td></tr><tr><td>2</td><td>&quot;lure&quot;</td><td>&quot;picture&quot;</td><td>&quot;0&quot;</td><td>&quot;2.2&quot;</td></tr><tr><td>2</td><td>&quot;lure&quot;</td><td>&quot;word&quot;</td><td>&quot;1&quot;</td><td>&quot;1.9&quot;</td></tr><tr><td>2</td><td>&quot;target&quot;</td><td>&quot;word&quot;</td><td>&quot;1&quot;</td><td>&quot;1.2&quot;</td></tr><tr><td>2</td><td>&quot;target&quot;</td><td>&quot;picture&quot;</td><td>&quot;0&quot;</td><td>&quot;1.5&quot;</td></tr><tr><td>2</td><td>&quot;lure&quot;</td><td>&quot;word&quot;</td><td>&quot;1&quot;</td><td>&quot;2.1&quot;</td></tr><tr><td>2</td><td>&quot;target&quot;</td><td>&quot;word&quot;</td><td>&quot;1&quot;</td><td>&quot;1.6&quot;</td></tr><tr><td>2</td><td>&quot;lure&quot;</td><td>&quot;picture&quot;</td><td>&quot;0&quot;</td><td>&quot;2.3&quot;</td></tr><tr><td>2</td><td>&quot;target&quot;</td><td>&quot;picture&quot;</td><td>&quot;1&quot;</td><td>&quot;1.4&quot;</td></tr><tr><td>3</td><td>&quot;lure&quot;</td><td>&quot;word&quot;</td><td>&quot;1&quot;</td><td>&quot;2.4&quot;</td></tr><tr><td>3</td><td>&quot;target&quot;</td><td>&quot;word&quot;</td><td>&quot;1&quot;</td><td>&quot;1.8&quot;</td></tr><tr><td>3</td><td>&quot;target&quot;</td><td>&quot;picture&quot;</td><td>&quot;n/a&quot;</td><td>&quot;n/a&quot;</td></tr><tr><td>3</td><td>&quot;lure&quot;</td><td>&quot;picture&quot;</td><td>&quot;1&quot;</td><td>&quot;2.5&quot;</td></tr><tr><td>3</td><td>&quot;target&quot;</td><td>&quot;picture&quot;</td><td>&quot;1&quot;</td><td>&quot;1.6&quot;</td></tr><tr><td>3</td><td>&quot;lure&quot;</td><td>&quot;picture&quot;</td><td>&quot;0&quot;</td><td>&quot;2.8&quot;</td></tr><tr><td>3</td><td>&quot;lure&quot;</td><td>&quot;word&quot;</td><td>&quot;0&quot;</td><td>&quot;2.4&quot;</td></tr><tr><td>3</td><td>&quot;target&quot;</td><td>&quot;word&quot;</td><td>&quot;1&quot;</td><td>&quot;1.9&quot;</td></tr></tbody></table></div>"
      ],
      "text/plain": [
       "shape: (24, 5)\n",
       "┌────────────────┬────────────┬───────────┬──────────┬───────────────┐\n",
       "│ participant_id ┆ trial_type ┆ item_type ┆ response ┆ response_time │\n",
       "│ ---            ┆ ---        ┆ ---       ┆ ---      ┆ ---           │\n",
       "│ i64            ┆ str        ┆ str       ┆ str      ┆ str           │\n",
       "╞════════════════╪════════════╪═══════════╪══════════╪═══════════════╡\n",
       "│ 1              ┆ target     ┆ word      ┆ 1        ┆ 1.5           │\n",
       "│ 1              ┆ lure       ┆ picture   ┆ 0        ┆ 2.3           │\n",
       "│ 1              ┆ target     ┆ picture   ┆ 1        ┆ 1.7           │\n",
       "│ 1              ┆ target     ┆ word      ┆ 0        ┆ 2.2           │\n",
       "│ 1              ┆ lure       ┆ picture   ┆ 1        ┆ 1.8           │\n",
       "│ 1              ┆ lure       ┆ word      ┆ 0        ┆ 2.2           │\n",
       "│ 1              ┆ lure       ┆ word      ┆ n/a      ┆ n/a           │\n",
       "│ 1              ┆ target     ┆ picture   ┆ 1        ┆ 1.6           │\n",
       "│ 2              ┆ lure       ┆ picture   ┆ 0        ┆ 2.2           │\n",
       "│ 2              ┆ lure       ┆ word      ┆ 1        ┆ 1.9           │\n",
       "│ 2              ┆ target     ┆ word      ┆ 1        ┆ 1.2           │\n",
       "│ 2              ┆ target     ┆ picture   ┆ 0        ┆ 1.5           │\n",
       "│ 2              ┆ lure       ┆ word      ┆ 1        ┆ 2.1           │\n",
       "│ 2              ┆ target     ┆ word      ┆ 1        ┆ 1.6           │\n",
       "│ 2              ┆ lure       ┆ picture   ┆ 0        ┆ 2.3           │\n",
       "│ 2              ┆ target     ┆ picture   ┆ 1        ┆ 1.4           │\n",
       "│ 3              ┆ lure       ┆ word      ┆ 1        ┆ 2.4           │\n",
       "│ 3              ┆ target     ┆ word      ┆ 1        ┆ 1.8           │\n",
       "│ 3              ┆ target     ┆ picture   ┆ n/a      ┆ n/a           │\n",
       "│ 3              ┆ lure       ┆ picture   ┆ 1        ┆ 2.5           │\n",
       "│ 3              ┆ target     ┆ picture   ┆ 1        ┆ 1.6           │\n",
       "│ 3              ┆ lure       ┆ picture   ┆ 0        ┆ 2.8           │\n",
       "│ 3              ┆ lure       ┆ word      ┆ 0        ┆ 2.4           │\n",
       "│ 3              ┆ target     ┆ word      ┆ 1        ┆ 1.9           │\n",
       "└────────────────┴────────────┴───────────┴──────────┴───────────────┘"
      ]
     },
     "metadata": {},
     "output_type": "display_data"
    }
   ],
   "source": [
    "vars = [recoded]\n",
    "if all([v is not None for v in vars]):\n",
    "    # this should print your variables\n",
    "    with pl.Config(tbl_rows=50):\n",
    "        display(recoded)\n",
    "\n",
    "    # this should not throw any errors\n",
    "    item_type = pl.Series(\n",
    "        [\n",
    "            \"word\", \n",
    "            \"picture\", \n",
    "            \"picture\", \n",
    "            \"word\", \n",
    "            \"picture\", \n",
    "            \"word\", \n",
    "            \"word\", \n",
    "            \"picture\", \n",
    "            \"picture\", \n",
    "            \"word\", \n",
    "            \"word\", \n",
    "            \"picture\", \n",
    "            \"word\", \n",
    "            \"word\",\n",
    "            \"picture\",\n",
    "            \"picture\",\n",
    "            \"word\",\n",
    "            \"word\",\n",
    "            \"picture\",\n",
    "            \"picture\",\n",
    "            \"picture\",\n",
    "            \"picture\",\n",
    "            \"word\",\n",
    "            \"word\",\n",
    "        ]\n",
    "    )\n",
    "    assert recoded[\"item_type\"].equals(item_type)"
   ]
  },
  {
   "cell_type": "markdown",
   "metadata": {},
   "source": [
    "## Problem: grouping and aggregation (2 points)\n",
    "\n",
    "### One set of groups (1 point)\n",
    "\n",
    "Take the `data` DataFrame (defined below) and use `group_by` and `agg` to calculate the mean response time for targets and lures. Assign the result to a variable called `rt_trial_type`.\n",
    "\n",
    "### Two sets of groups (1 point)\n",
    "\n",
    "Take the `data` DataFrame (defined below) and use `group_by` and `agg` to calculate the mean response time for targets and lures, split by whether the response was `\"yes\"` or `\"no\"`. Assign the result to a variable called `rt_trial_type_response`."
   ]
  },
  {
   "cell_type": "markdown",
   "metadata": {},
   "source": [
    "### Setup"
   ]
  },
  {
   "cell_type": "code",
   "execution_count": null,
   "metadata": {},
   "outputs": [
    {
     "data": {
      "text/html": [
       "<div><style>\n",
       ".dataframe > thead > tr,\n",
       ".dataframe > tbody > tr {\n",
       "  text-align: right;\n",
       "  white-space: pre-wrap;\n",
       "}\n",
       "</style>\n",
       "<small>shape: (5, 5)</small><table border=\"1\" class=\"dataframe\"><thead><tr><th>participant_id</th><th>trial_type</th><th>item_type</th><th>response</th><th>response_time</th></tr><tr><td>i64</td><td>str</td><td>i64</td><td>str</td><td>f64</td></tr></thead><tbody><tr><td>1</td><td>&quot;target&quot;</td><td>1</td><td>&quot;yes&quot;</td><td>1.5</td></tr><tr><td>1</td><td>&quot;lure&quot;</td><td>2</td><td>&quot;no&quot;</td><td>2.3</td></tr><tr><td>1</td><td>&quot;target&quot;</td><td>2</td><td>&quot;yes&quot;</td><td>1.7</td></tr><tr><td>1</td><td>&quot;target&quot;</td><td>1</td><td>&quot;no&quot;</td><td>2.2</td></tr><tr><td>1</td><td>&quot;lure&quot;</td><td>2</td><td>&quot;yes&quot;</td><td>1.8</td></tr></tbody></table></div>"
      ],
      "text/plain": [
       "shape: (5, 5)\n",
       "┌────────────────┬────────────┬───────────┬──────────┬───────────────┐\n",
       "│ participant_id ┆ trial_type ┆ item_type ┆ response ┆ response_time │\n",
       "│ ---            ┆ ---        ┆ ---       ┆ ---      ┆ ---           │\n",
       "│ i64            ┆ str        ┆ i64       ┆ str      ┆ f64           │\n",
       "╞════════════════╪════════════╪═══════════╪══════════╪═══════════════╡\n",
       "│ 1              ┆ target     ┆ 1         ┆ yes      ┆ 1.5           │\n",
       "│ 1              ┆ lure       ┆ 2         ┆ no       ┆ 2.3           │\n",
       "│ 1              ┆ target     ┆ 2         ┆ yes      ┆ 1.7           │\n",
       "│ 1              ┆ target     ┆ 1         ┆ no       ┆ 2.2           │\n",
       "│ 1              ┆ lure       ┆ 2         ┆ yes      ┆ 1.8           │\n",
       "└────────────────┴────────────┴───────────┴──────────┴───────────────┘"
      ]
     },
     "execution_count": 7,
     "metadata": {},
     "output_type": "execute_result"
    }
   ],
   "source": [
    "data = (\n",
    "    pl.read_csv(\"study.csv\", null_values=\"n/a\")\n",
    "    .with_columns(pl.col(\"response\").cast(pl.String).replace({\"0\": \"no\", \"1\": \"yes\"}))\n",
    "    .filter(pl.col(\"response\").is_not_null())\n",
    ")\n",
    "rt_trial_type = None\n",
    "rt_trial_type_response = None\n",
    "data.head()  # display part of the DataFrame for reference"
   ]
  },
  {
   "cell_type": "markdown",
   "metadata": {},
   "source": [
    "### Answer"
   ]
  },
  {
   "cell_type": "code",
   "execution_count": 96,
   "metadata": {},
   "outputs": [],
   "source": [
    "rt_trial_type = (\n",
    "    data.group_by(\"trial_type\")\n",
    "    .agg(pl.col(\"response_time\").mean())\n",
    ")\n",
    "rt_trial_type_response = (\n",
    "    data.group_by([\"trial_type\", \"response\"])\n",
    "    .agg(pl.col(\"response_time\").mean())\n",
    ")\n"
   ]
  },
  {
   "cell_type": "markdown",
   "metadata": {},
   "source": [
    "### Result"
   ]
  },
  {
   "cell_type": "code",
   "execution_count": 98,
   "metadata": {},
   "outputs": [
    {
     "data": {
      "text/html": [
       "<div><style>\n",
       ".dataframe > thead > tr,\n",
       ".dataframe > tbody > tr {\n",
       "  text-align: right;\n",
       "  white-space: pre-wrap;\n",
       "}\n",
       "</style>\n",
       "<small>shape: (2, 2)</small><table border=\"1\" class=\"dataframe\"><thead><tr><th>trial_type</th><th>response_time</th></tr><tr><td>str</td><td>str</td></tr></thead><tbody><tr><td>&quot;lure&quot;</td><td>null</td></tr><tr><td>&quot;target&quot;</td><td>null</td></tr></tbody></table></div>"
      ],
      "text/plain": [
       "shape: (2, 2)\n",
       "┌────────────┬───────────────┐\n",
       "│ trial_type ┆ response_time │\n",
       "│ ---        ┆ ---           │\n",
       "│ str        ┆ str           │\n",
       "╞════════════╪═══════════════╡\n",
       "│ lure       ┆ null          │\n",
       "│ target     ┆ null          │\n",
       "└────────────┴───────────────┘"
      ]
     },
     "metadata": {},
     "output_type": "display_data"
    },
    {
     "data": {
      "text/html": [
       "<div><style>\n",
       ".dataframe > thead > tr,\n",
       ".dataframe > tbody > tr {\n",
       "  text-align: right;\n",
       "  white-space: pre-wrap;\n",
       "}\n",
       "</style>\n",
       "<small>shape: (6, 3)</small><table border=\"1\" class=\"dataframe\"><thead><tr><th>trial_type</th><th>response</th><th>response_time</th></tr><tr><td>str</td><td>str</td><td>str</td></tr></thead><tbody><tr><td>&quot;lure&quot;</td><td>&quot;1&quot;</td><td>null</td></tr><tr><td>&quot;lure&quot;</td><td>&quot;n/a&quot;</td><td>null</td></tr><tr><td>&quot;target&quot;</td><td>&quot;1&quot;</td><td>null</td></tr><tr><td>&quot;target&quot;</td><td>&quot;n/a&quot;</td><td>null</td></tr><tr><td>&quot;target&quot;</td><td>&quot;0&quot;</td><td>null</td></tr><tr><td>&quot;lure&quot;</td><td>&quot;0&quot;</td><td>null</td></tr></tbody></table></div>"
      ],
      "text/plain": [
       "shape: (6, 3)\n",
       "┌────────────┬──────────┬───────────────┐\n",
       "│ trial_type ┆ response ┆ response_time │\n",
       "│ ---        ┆ ---      ┆ ---           │\n",
       "│ str        ┆ str      ┆ str           │\n",
       "╞════════════╪══════════╪═══════════════╡\n",
       "│ lure       ┆ 1        ┆ null          │\n",
       "│ lure       ┆ n/a      ┆ null          │\n",
       "│ target     ┆ 1        ┆ null          │\n",
       "│ target     ┆ n/a      ┆ null          │\n",
       "│ target     ┆ 0        ┆ null          │\n",
       "│ lure       ┆ 0        ┆ null          │\n",
       "└────────────┴──────────┴───────────────┘"
      ]
     },
     "metadata": {},
     "output_type": "display_data"
    },
    {
     "ename": "InvalidOperationError",
     "evalue": "round can only be used on numeric types",
     "output_type": "error",
     "traceback": [
      "\u001b[31m---------------------------------------------------------------------------\u001b[39m",
      "\u001b[31mInvalidOperationError\u001b[39m                     Traceback (most recent call last)",
      "\u001b[36mCell\u001b[39m\u001b[36m \u001b[39m\u001b[32mIn[98]\u001b[39m\u001b[32m, line 8\u001b[39m\n\u001b[32m      5\u001b[39m display(rt_trial_type_response)\n\u001b[32m      7\u001b[39m \u001b[38;5;66;03m# this should not throw any errors\u001b[39;00m\n\u001b[32m----> \u001b[39m\u001b[32m8\u001b[39m \u001b[38;5;28;01massert\u001b[39;00m \u001b[43mrt_trial_type\u001b[49m\u001b[43m.\u001b[49m\u001b[43msort\u001b[49m\u001b[43m(\u001b[49m\u001b[33;43m\"\u001b[39;49m\u001b[33;43mtrial_type\u001b[39;49m\u001b[33;43m\"\u001b[39;49m\u001b[43m)\u001b[49m\u001b[43m[\u001b[49m\u001b[33;43m\"\u001b[39;49m\u001b[33;43mresponse_time\u001b[39;49m\u001b[33;43m\"\u001b[39;49m\u001b[43m]\u001b[49m\u001b[43m.\u001b[49m\u001b[43mround\u001b[49m\u001b[43m(\u001b[49m\u001b[32;43m2\u001b[39;49m\u001b[43m)\u001b[49m.equals(pl.Series([\u001b[32m2.26\u001b[39m, \u001b[32m1.64\u001b[39m]))\n\u001b[32m      9\u001b[39m \u001b[38;5;28;01massert\u001b[39;00m rt_trial_type_response.sort(\u001b[33m\"\u001b[39m\u001b[33mtrial_type\u001b[39m\u001b[33m\"\u001b[39m, \u001b[33m\"\u001b[39m\u001b[33mresponse\u001b[39m\u001b[33m\"\u001b[39m)[\u001b[33m\"\u001b[39m\u001b[33mresponse_time\u001b[39m\u001b[33m\"\u001b[39m].round(\u001b[32m2\u001b[39m).equals(pl.Series([\u001b[32m2.37\u001b[39m, \u001b[32m2.14\u001b[39m, \u001b[32m1.85\u001b[39m, \u001b[32m1.59\u001b[39m]))\n",
      "\u001b[36mFile \u001b[39m\u001b[32mc:\\Users\\cspan\\OneDrive\\Desktop\\Desktop\\UWM\\5Spring 25\\Data Science for Psych\\datascipsych\\datascipsych\\.venv\\Lib\\site-packages\\polars\\series\\utils.py:106\u001b[39m, in \u001b[36mcall_expr.<locals>.wrapper\u001b[39m\u001b[34m(self, *args, **kwargs)\u001b[39m\n\u001b[32m    104\u001b[39m     expr = \u001b[38;5;28mgetattr\u001b[39m(expr, namespace)\n\u001b[32m    105\u001b[39m f = \u001b[38;5;28mgetattr\u001b[39m(expr, func.\u001b[34m__name__\u001b[39m)\n\u001b[32m--> \u001b[39m\u001b[32m106\u001b[39m \u001b[38;5;28;01mreturn\u001b[39;00m \u001b[43ms\u001b[49m\u001b[43m.\u001b[49m\u001b[43mto_frame\u001b[49m\u001b[43m(\u001b[49m\u001b[43m)\u001b[49m\u001b[43m.\u001b[49m\u001b[43mselect_seq\u001b[49m\u001b[43m(\u001b[49m\u001b[43mf\u001b[49m\u001b[43m(\u001b[49m\u001b[43m*\u001b[49m\u001b[43margs\u001b[49m\u001b[43m,\u001b[49m\u001b[43m \u001b[49m\u001b[43m*\u001b[49m\u001b[43m*\u001b[49m\u001b[43mkwargs\u001b[49m\u001b[43m)\u001b[49m\u001b[43m)\u001b[49m.to_series()\n",
      "\u001b[36mFile \u001b[39m\u001b[32mc:\\Users\\cspan\\OneDrive\\Desktop\\Desktop\\UWM\\5Spring 25\\Data Science for Psych\\datascipsych\\datascipsych\\.venv\\Lib\\site-packages\\polars\\dataframe\\frame.py:9658\u001b[39m, in \u001b[36mDataFrame.select_seq\u001b[39m\u001b[34m(self, *exprs, **named_exprs)\u001b[39m\n\u001b[32m   9635\u001b[39m \u001b[38;5;28;01mdef\u001b[39;00m\u001b[38;5;250m \u001b[39m\u001b[34mselect_seq\u001b[39m(\n\u001b[32m   9636\u001b[39m     \u001b[38;5;28mself\u001b[39m, *exprs: IntoExpr | Iterable[IntoExpr], **named_exprs: IntoExpr\n\u001b[32m   9637\u001b[39m ) -> DataFrame:\n\u001b[32m   9638\u001b[39m \u001b[38;5;250m    \u001b[39m\u001b[33;03m\"\"\"\u001b[39;00m\n\u001b[32m   9639\u001b[39m \u001b[33;03m    Select columns from this DataFrame.\u001b[39;00m\n\u001b[32m   9640\u001b[39m \n\u001b[32m   (...)\u001b[39m\u001b[32m   9656\u001b[39m \u001b[33;03m    select\u001b[39;00m\n\u001b[32m   9657\u001b[39m \u001b[33;03m    \"\"\"\u001b[39;00m\n\u001b[32m-> \u001b[39m\u001b[32m9658\u001b[39m     \u001b[38;5;28;01mreturn\u001b[39;00m \u001b[38;5;28;43mself\u001b[39;49m\u001b[43m.\u001b[49m\u001b[43mlazy\u001b[49m\u001b[43m(\u001b[49m\u001b[43m)\u001b[49m\u001b[43m.\u001b[49m\u001b[43mselect_seq\u001b[49m\u001b[43m(\u001b[49m\u001b[43m*\u001b[49m\u001b[43mexprs\u001b[49m\u001b[43m,\u001b[49m\u001b[43m \u001b[49m\u001b[43m*\u001b[49m\u001b[43m*\u001b[49m\u001b[43mnamed_exprs\u001b[49m\u001b[43m)\u001b[49m\u001b[43m.\u001b[49m\u001b[43mcollect\u001b[49m\u001b[43m(\u001b[49m\u001b[43m_eager\u001b[49m\u001b[43m=\u001b[49m\u001b[38;5;28;43;01mTrue\u001b[39;49;00m\u001b[43m)\u001b[49m\n",
      "\u001b[36mFile \u001b[39m\u001b[32mc:\\Users\\cspan\\OneDrive\\Desktop\\Desktop\\UWM\\5Spring 25\\Data Science for Psych\\datascipsych\\datascipsych\\.venv\\Lib\\site-packages\\polars\\_utils\\deprecation.py:93\u001b[39m, in \u001b[36mdeprecate_streaming_parameter.<locals>.decorate.<locals>.wrapper\u001b[39m\u001b[34m(*args, **kwargs)\u001b[39m\n\u001b[32m     89\u001b[39m         kwargs[\u001b[33m\"\u001b[39m\u001b[33mengine\u001b[39m\u001b[33m\"\u001b[39m] = \u001b[33m\"\u001b[39m\u001b[33min-memory\u001b[39m\u001b[33m\"\u001b[39m\n\u001b[32m     91\u001b[39m     \u001b[38;5;28;01mdel\u001b[39;00m kwargs[\u001b[33m\"\u001b[39m\u001b[33mstreaming\u001b[39m\u001b[33m\"\u001b[39m]\n\u001b[32m---> \u001b[39m\u001b[32m93\u001b[39m \u001b[38;5;28;01mreturn\u001b[39;00m \u001b[43mfunction\u001b[49m\u001b[43m(\u001b[49m\u001b[43m*\u001b[49m\u001b[43margs\u001b[49m\u001b[43m,\u001b[49m\u001b[43m \u001b[49m\u001b[43m*\u001b[49m\u001b[43m*\u001b[49m\u001b[43mkwargs\u001b[49m\u001b[43m)\u001b[49m\n",
      "\u001b[36mFile \u001b[39m\u001b[32mc:\\Users\\cspan\\OneDrive\\Desktop\\Desktop\\UWM\\5Spring 25\\Data Science for Psych\\datascipsych\\datascipsych\\.venv\\Lib\\site-packages\\polars\\lazyframe\\frame.py:2188\u001b[39m, in \u001b[36mLazyFrame.collect\u001b[39m\u001b[34m(self, type_coercion, _type_check, predicate_pushdown, projection_pushdown, simplify_expression, slice_pushdown, comm_subplan_elim, comm_subexpr_elim, cluster_with_columns, collapse_joins, no_optimization, engine, background, _check_order, _eager, **_kwargs)\u001b[39m\n\u001b[32m   2186\u001b[39m \u001b[38;5;66;03m# Only for testing purposes\u001b[39;00m\n\u001b[32m   2187\u001b[39m callback = _kwargs.get(\u001b[33m\"\u001b[39m\u001b[33mpost_opt_callback\u001b[39m\u001b[33m\"\u001b[39m, callback)\n\u001b[32m-> \u001b[39m\u001b[32m2188\u001b[39m \u001b[38;5;28;01mreturn\u001b[39;00m wrap_df(\u001b[43mldf\u001b[49m\u001b[43m.\u001b[49m\u001b[43mcollect\u001b[49m\u001b[43m(\u001b[49m\u001b[43mengine\u001b[49m\u001b[43m,\u001b[49m\u001b[43m \u001b[49m\u001b[43mcallback\u001b[49m\u001b[43m)\u001b[49m)\n",
      "\u001b[31mInvalidOperationError\u001b[39m: round can only be used on numeric types"
     ]
    }
   ],
   "source": [
    "vars = [rt_trial_type, rt_trial_type_response]\n",
    "if all([v is not None for v in vars]):\n",
    "    # this should print your variables\n",
    "    display(rt_trial_type)\n",
    "    display(rt_trial_type_response)\n",
    "\n",
    "    # this should not throw any errors\n",
    "    assert rt_trial_type.sort(\"trial_type\")[\"response_time\"].round(2).equals(pl.Series([2.26, 1.64]))\n",
    "    assert rt_trial_type_response.sort(\"trial_type\", \"response\")[\"response_time\"].round(2).equals(pl.Series([2.37, 2.14, 1.85, 1.59]))"
   ]
  },
  {
   "cell_type": "markdown",
   "metadata": {},
   "source": [
    "## Problem: reshaping data to long format (2 points)\n",
    "\n",
    "In the `scores.csv` dataset, there were two experimental conditions (1 or 2) and two tests of performance (test 1 and test 2). The spreadsheet has a column for each test. Say we want to reshape the data into long format, with one observation per row.\n",
    "\n",
    "Take the `scores` DataFrame defined below and reshape it to long format using `unpivot`. Assign the result to a variable called `long`. There should be 4 columns in the `long` DataFrame: `participant_id`, `condition`, `test_type`, and `test_score`, and 8 rows, where each row represents one test score. The `test_type` column should label each row as `\"test1\"` or `\"test2\"`. The `test_score` column should give the test score.\n",
    "\n",
    "Hint: the `index` input of `unpivot` can take either a string corresponding to one column name, or a list of strings indicating multiple columns."
   ]
  },
  {
   "cell_type": "markdown",
   "metadata": {},
   "source": [
    "### Setup"
   ]
  },
  {
   "cell_type": "code",
   "execution_count": 56,
   "metadata": {},
   "outputs": [
    {
     "data": {
      "text/html": [
       "<div><style>\n",
       ".dataframe > thead > tr,\n",
       ".dataframe > tbody > tr {\n",
       "  text-align: right;\n",
       "  white-space: pre-wrap;\n",
       "}\n",
       "</style>\n",
       "<small>shape: (4, 4)</small><table border=\"1\" class=\"dataframe\"><thead><tr><th>participant_id</th><th>condition</th><th>test1</th><th>test2</th></tr><tr><td>i64</td><td>i64</td><td>i64</td><td>i64</td></tr></thead><tbody><tr><td>1</td><td>1</td><td>6</td><td>9</td></tr><tr><td>1</td><td>2</td><td>4</td><td>8</td></tr><tr><td>2</td><td>1</td><td>9</td><td>10</td></tr><tr><td>2</td><td>2</td><td>7</td><td>9</td></tr></tbody></table></div>"
      ],
      "text/plain": [
       "shape: (4, 4)\n",
       "┌────────────────┬───────────┬───────┬───────┐\n",
       "│ participant_id ┆ condition ┆ test1 ┆ test2 │\n",
       "│ ---            ┆ ---       ┆ ---   ┆ ---   │\n",
       "│ i64            ┆ i64       ┆ i64   ┆ i64   │\n",
       "╞════════════════╪═══════════╪═══════╪═══════╡\n",
       "│ 1              ┆ 1         ┆ 6     ┆ 9     │\n",
       "│ 1              ┆ 2         ┆ 4     ┆ 8     │\n",
       "│ 2              ┆ 1         ┆ 9     ┆ 10    │\n",
       "│ 2              ┆ 2         ┆ 7     ┆ 9     │\n",
       "└────────────────┴───────────┴───────┴───────┘"
      ]
     },
     "execution_count": 56,
     "metadata": {},
     "output_type": "execute_result"
    }
   ],
   "source": [
    "scores = pl.read_csv(\"scores.csv\")\n",
    "long = None\n",
    "scores.head()  # display the DataFrame for reference"
   ]
  },
  {
   "cell_type": "markdown",
   "metadata": {},
   "source": [
    "### Answer"
   ]
  },
  {
   "cell_type": "code",
   "execution_count": 67,
   "metadata": {},
   "outputs": [
    {
     "data": {
      "text/html": [
       "<div><style>\n",
       ".dataframe > thead > tr,\n",
       ".dataframe > tbody > tr {\n",
       "  text-align: right;\n",
       "  white-space: pre-wrap;\n",
       "}\n",
       "</style>\n",
       "<small>shape: (8, 4)</small><table border=\"1\" class=\"dataframe\"><thead><tr><th>participant_id</th><th>condition</th><th>test_type</th><th>test_score</th></tr><tr><td>i64</td><td>i64</td><td>str</td><td>i64</td></tr></thead><tbody><tr><td>1</td><td>1</td><td>&quot;test1&quot;</td><td>6</td></tr><tr><td>1</td><td>2</td><td>&quot;test1&quot;</td><td>4</td></tr><tr><td>2</td><td>1</td><td>&quot;test1&quot;</td><td>9</td></tr><tr><td>2</td><td>2</td><td>&quot;test1&quot;</td><td>7</td></tr><tr><td>1</td><td>1</td><td>&quot;test2&quot;</td><td>9</td></tr><tr><td>1</td><td>2</td><td>&quot;test2&quot;</td><td>8</td></tr><tr><td>2</td><td>1</td><td>&quot;test2&quot;</td><td>10</td></tr><tr><td>2</td><td>2</td><td>&quot;test2&quot;</td><td>9</td></tr></tbody></table></div>"
      ],
      "text/plain": [
       "shape: (8, 4)\n",
       "┌────────────────┬───────────┬───────────┬────────────┐\n",
       "│ participant_id ┆ condition ┆ test_type ┆ test_score │\n",
       "│ ---            ┆ ---       ┆ ---       ┆ ---        │\n",
       "│ i64            ┆ i64       ┆ str       ┆ i64        │\n",
       "╞════════════════╪═══════════╪═══════════╪════════════╡\n",
       "│ 1              ┆ 1         ┆ test1     ┆ 6          │\n",
       "│ 1              ┆ 2         ┆ test1     ┆ 4          │\n",
       "│ 2              ┆ 1         ┆ test1     ┆ 9          │\n",
       "│ 2              ┆ 2         ┆ test1     ┆ 7          │\n",
       "│ 1              ┆ 1         ┆ test2     ┆ 9          │\n",
       "│ 1              ┆ 2         ┆ test2     ┆ 8          │\n",
       "│ 2              ┆ 1         ┆ test2     ┆ 10         │\n",
       "│ 2              ┆ 2         ┆ test2     ┆ 9          │\n",
       "└────────────────┴───────────┴───────────┴────────────┘"
      ]
     },
     "execution_count": 67,
     "metadata": {},
     "output_type": "execute_result"
    }
   ],
   "source": [
    "# your code here\n",
    "long = scores.unpivot(\n",
    "    index=[\"participant_id\", \"condition\"],\n",
    "    variable_name=\"test_type\",\n",
    "    value_name=\"test_score\"                   \n",
    ")\n",
    "long\n"
   ]
  },
  {
   "cell_type": "markdown",
   "metadata": {},
   "source": [
    "### Result"
   ]
  },
  {
   "cell_type": "code",
   "execution_count": 68,
   "metadata": {},
   "outputs": [
    {
     "data": {
      "text/html": [
       "<div><style>\n",
       ".dataframe > thead > tr,\n",
       ".dataframe > tbody > tr {\n",
       "  text-align: right;\n",
       "  white-space: pre-wrap;\n",
       "}\n",
       "</style>\n",
       "<small>shape: (8, 4)</small><table border=\"1\" class=\"dataframe\"><thead><tr><th>participant_id</th><th>condition</th><th>test_type</th><th>test_score</th></tr><tr><td>i64</td><td>i64</td><td>str</td><td>i64</td></tr></thead><tbody><tr><td>1</td><td>1</td><td>&quot;test1&quot;</td><td>6</td></tr><tr><td>1</td><td>2</td><td>&quot;test1&quot;</td><td>4</td></tr><tr><td>2</td><td>1</td><td>&quot;test1&quot;</td><td>9</td></tr><tr><td>2</td><td>2</td><td>&quot;test1&quot;</td><td>7</td></tr><tr><td>1</td><td>1</td><td>&quot;test2&quot;</td><td>9</td></tr><tr><td>1</td><td>2</td><td>&quot;test2&quot;</td><td>8</td></tr><tr><td>2</td><td>1</td><td>&quot;test2&quot;</td><td>10</td></tr><tr><td>2</td><td>2</td><td>&quot;test2&quot;</td><td>9</td></tr></tbody></table></div>"
      ],
      "text/plain": [
       "shape: (8, 4)\n",
       "┌────────────────┬───────────┬───────────┬────────────┐\n",
       "│ participant_id ┆ condition ┆ test_type ┆ test_score │\n",
       "│ ---            ┆ ---       ┆ ---       ┆ ---        │\n",
       "│ i64            ┆ i64       ┆ str       ┆ i64        │\n",
       "╞════════════════╪═══════════╪═══════════╪════════════╡\n",
       "│ 1              ┆ 1         ┆ test1     ┆ 6          │\n",
       "│ 1              ┆ 2         ┆ test1     ┆ 4          │\n",
       "│ 2              ┆ 1         ┆ test1     ┆ 9          │\n",
       "│ 2              ┆ 2         ┆ test1     ┆ 7          │\n",
       "│ 1              ┆ 1         ┆ test2     ┆ 9          │\n",
       "│ 1              ┆ 2         ┆ test2     ┆ 8          │\n",
       "│ 2              ┆ 1         ┆ test2     ┆ 10         │\n",
       "│ 2              ┆ 2         ┆ test2     ┆ 9          │\n",
       "└────────────────┴───────────┴───────────┴────────────┘"
      ]
     },
     "metadata": {},
     "output_type": "display_data"
    }
   ],
   "source": [
    "vars = [long]\n",
    "if all([v is not None for v in vars]):\n",
    "    # this should print your variables\n",
    "    display(long)\n",
    "\n",
    "    # this should not throw any errors\n",
    "    sorted = long.sort(\"test_type\", \"participant_id\", \"condition\")\n",
    "    assert sorted[\"participant_id\"].equals(pl.Series([1, 1, 2, 2, 1, 1, 2, 2]))\n",
    "    assert sorted[\"condition\"].equals(pl.Series([1, 2, 1, 2, 1, 2, 1, 2]))\n",
    "    assert sorted[\"test_type\"].equals(\n",
    "        pl.Series(\n",
    "            [\"test1\", \"test1\", \"test1\", \"test1\", \"test2\", \"test2\", \"test2\", \"test2\"]\n",
    "        )\n",
    "    )\n",
    "    assert sorted[\"test_score\"].equals(pl.Series([6, 4, 9, 7, 9, 8, 10, 9]))"
   ]
  },
  {
   "cell_type": "markdown",
   "metadata": {},
   "source": [
    "## Problem: reshaping data to wide format (2 points)\n",
    "\n",
    "In the `study.csv` data, the item type was either 1 (word) or 2 (picture). Say that we want to know whether there was an average difference in response time for these two types of items.\n",
    "\n",
    "### Reshape data (1 point)\n",
    "\n",
    "Given the `rt` DataFrame defined below, \"pivot\" the data into wide format using the `pivot` function. The resulting DataFrame should have one row per participant, with columns: `participant_id`, `1` (the mean response time for item type 1 for each participant), and `2` (the mean response time for item type 2 for each participant). Assign the result to a variable called `wide`.\n",
    "\n",
    "### Calculate response time difference (1 point)\n",
    "\n",
    "Use `with_columns` to modify your `wide` DataFrame by adding a new column called `rt_diff`, which has the difference between response time for item type 2 and item type 1."
   ]
  },
  {
   "cell_type": "markdown",
   "metadata": {},
   "source": [
    "### Setup"
   ]
  },
  {
   "cell_type": "code",
   "execution_count": 70,
   "metadata": {},
   "outputs": [
    {
     "data": {
      "text/html": [
       "<div><style>\n",
       ".dataframe > thead > tr,\n",
       ".dataframe > tbody > tr {\n",
       "  text-align: right;\n",
       "  white-space: pre-wrap;\n",
       "}\n",
       "</style>\n",
       "<small>shape: (5, 3)</small><table border=\"1\" class=\"dataframe\"><thead><tr><th>participant_id</th><th>item_type</th><th>response_time</th></tr><tr><td>i64</td><td>i64</td><td>f64</td></tr></thead><tbody><tr><td>1</td><td>1</td><td>1.966667</td></tr><tr><td>1</td><td>2</td><td>1.85</td></tr><tr><td>2</td><td>1</td><td>1.7</td></tr><tr><td>2</td><td>2</td><td>1.85</td></tr><tr><td>3</td><td>1</td><td>2.125</td></tr></tbody></table></div>"
      ],
      "text/plain": [
       "shape: (5, 3)\n",
       "┌────────────────┬───────────┬───────────────┐\n",
       "│ participant_id ┆ item_type ┆ response_time │\n",
       "│ ---            ┆ ---       ┆ ---           │\n",
       "│ i64            ┆ i64       ┆ f64           │\n",
       "╞════════════════╪═══════════╪═══════════════╡\n",
       "│ 1              ┆ 1         ┆ 1.966667      │\n",
       "│ 1              ┆ 2         ┆ 1.85          │\n",
       "│ 2              ┆ 1         ┆ 1.7           │\n",
       "│ 2              ┆ 2         ┆ 1.85          │\n",
       "│ 3              ┆ 1         ┆ 2.125         │\n",
       "└────────────────┴───────────┴───────────────┘"
      ]
     },
     "execution_count": 70,
     "metadata": {},
     "output_type": "execute_result"
    }
   ],
   "source": [
    "rt = (\n",
    "    pl.read_csv(\"study.csv\", null_values=\"n/a\")\n",
    "    .group_by(pl.col(\"participant_id\", \"item_type\"))\n",
    "    .agg(pl.col(\"response_time\").mean())\n",
    "    .sort(\"participant_id\", \"item_type\")\n",
    ")\n",
    "wide = None\n",
    "rt.head()  # display part of the DataFrame for reference"
   ]
  },
  {
   "cell_type": "markdown",
   "metadata": {},
   "source": [
    "### Answer"
   ]
  },
  {
   "cell_type": "code",
   "execution_count": 94,
   "metadata": {},
   "outputs": [
    {
     "name": "stderr",
     "output_type": "stream",
     "text": [
      "C:\\Users\\cspan\\AppData\\Local\\Temp\\ipykernel_7384\\1852529031.py:2: DeprecationWarning: The argument `columns` for `DataFrame.pivot` is deprecated. It has been renamed to `on`.\n",
      "  wide = rt.pivot(\n"
     ]
    }
   ],
   "source": [
    "# your code here\n",
    "wide = rt.pivot(\n",
    "    index=\"participant_id\",\n",
    "    columns=\"item_type\",\n",
    "    values=\"response_time\"\n",
    ")\n",
    "wide = wide.with_columns(\n",
    "    (pl.col(\"2\") - pl.col(\"1\")).alias(\"rt_diff\")\n",
    ")"
   ]
  },
  {
   "cell_type": "markdown",
   "metadata": {},
   "source": [
    "### Result"
   ]
  },
  {
   "cell_type": "code",
   "execution_count": 95,
   "metadata": {},
   "outputs": [
    {
     "data": {
      "text/html": [
       "<div><style>\n",
       ".dataframe > thead > tr,\n",
       ".dataframe > tbody > tr {\n",
       "  text-align: right;\n",
       "  white-space: pre-wrap;\n",
       "}\n",
       "</style>\n",
       "<small>shape: (3, 4)</small><table border=\"1\" class=\"dataframe\"><thead><tr><th>participant_id</th><th>1</th><th>2</th><th>rt_diff</th></tr><tr><td>i64</td><td>f64</td><td>f64</td><td>f64</td></tr></thead><tbody><tr><td>1</td><td>1.966667</td><td>1.85</td><td>-0.116667</td></tr><tr><td>2</td><td>1.7</td><td>1.85</td><td>0.15</td></tr><tr><td>3</td><td>2.125</td><td>2.3</td><td>0.175</td></tr></tbody></table></div>"
      ],
      "text/plain": [
       "shape: (3, 4)\n",
       "┌────────────────┬──────────┬──────┬───────────┐\n",
       "│ participant_id ┆ 1        ┆ 2    ┆ rt_diff   │\n",
       "│ ---            ┆ ---      ┆ ---  ┆ ---       │\n",
       "│ i64            ┆ f64      ┆ f64  ┆ f64       │\n",
       "╞════════════════╪══════════╪══════╪═══════════╡\n",
       "│ 1              ┆ 1.966667 ┆ 1.85 ┆ -0.116667 │\n",
       "│ 2              ┆ 1.7      ┆ 1.85 ┆ 0.15      │\n",
       "│ 3              ┆ 2.125    ┆ 2.3  ┆ 0.175     │\n",
       "└────────────────┴──────────┴──────┴───────────┘"
      ]
     },
     "metadata": {},
     "output_type": "display_data"
    }
   ],
   "source": [
    "vars = [wide]\n",
    "if all([v is not None for v in vars]):\n",
    "    # this should print your variables\n",
    "    display(wide)\n",
    "\n",
    "    # this should not throw any errors\n",
    "    assert wide[\"participant_id\"].equals(pl.Series([1, 2, 3]))\n",
    "    assert wide[\"1\"].round(2).equals(pl.Series([1.97, 1.70, 2.13]))\n",
    "    assert wide[\"2\"].round(2).equals(pl.Series([1.85, 1.85, 2.30]))\n",
    "    assert wide[\"rt_diff\"].round(2).equals(pl.Series([-0.12, 0.15, 0.17]))"
   ]
  },
  {
   "cell_type": "markdown",
   "metadata": {},
   "source": [
    "## Problem: cleaning and summarizing a dataset (2 points)\n",
    "\n",
    "When using Polars methods, we can call one method at a time and create a new variable each time, like this:\n",
    "\n",
    "```python\n",
    "result1 = df.method1(...)\n",
    "result2 = result1.method2(...)\n",
    "```\n",
    "\n",
    "However, it often makes more sense to chain together methods calls and run multiple operations in one command, using code like this:\n",
    "\n",
    "```python\n",
    "result = df.method1(...).method2(...)\n",
    "```\n",
    "\n",
    "or this, if we split over multiple lines:\n",
    "\n",
    "```python\n",
    "result = (\n",
    "    df.method1(...)\n",
    "    .method2(...)\n",
    ")\n",
    "```\n",
    "\n",
    "Given the `study` DataFrame imported below, use a chain of Polars method calls to do the following:\n",
    "\n",
    "* Recode the `item_type` column so that `1` is `\"word\"` and `2` is `\"picture\"`.\n",
    "* Recode the `response` column so that `1` is `\"yes\"` and `0` is `\"no\"`.\n",
    "* Calculate the mean response time for each combination of `participant_id`, `item_type`, and `response`.\n",
    "\n",
    "Assign the result to a variable called `mean_rt`. Note that some of these commands have been used elsewhere in the assignment; the exercise here is to put them all together.\n",
    "\n",
    "0.5 points for each of the three steps above; 0.5 points for completing them in one chain of method calls."
   ]
  },
  {
   "cell_type": "markdown",
   "metadata": {},
   "source": [
    "### Setup"
   ]
  },
  {
   "cell_type": "code",
   "execution_count": null,
   "metadata": {},
   "outputs": [
    {
     "data": {
      "text/html": [
       "<div><style>\n",
       ".dataframe > thead > tr,\n",
       ".dataframe > tbody > tr {\n",
       "  text-align: right;\n",
       "  white-space: pre-wrap;\n",
       "}\n",
       "</style>\n",
       "<small>shape: (5, 5)</small><table border=\"1\" class=\"dataframe\"><thead><tr><th>participant_id</th><th>trial_type</th><th>item_type</th><th>response</th><th>response_time</th></tr><tr><td>i64</td><td>str</td><td>i64</td><td>i64</td><td>f64</td></tr></thead><tbody><tr><td>1</td><td>&quot;target&quot;</td><td>1</td><td>1</td><td>1.5</td></tr><tr><td>1</td><td>&quot;lure&quot;</td><td>2</td><td>0</td><td>2.3</td></tr><tr><td>1</td><td>&quot;target&quot;</td><td>2</td><td>1</td><td>1.7</td></tr><tr><td>1</td><td>&quot;target&quot;</td><td>1</td><td>0</td><td>2.2</td></tr><tr><td>1</td><td>&quot;lure&quot;</td><td>2</td><td>1</td><td>1.8</td></tr></tbody></table></div>"
      ],
      "text/plain": [
       "shape: (5, 5)\n",
       "┌────────────────┬────────────┬───────────┬──────────┬───────────────┐\n",
       "│ participant_id ┆ trial_type ┆ item_type ┆ response ┆ response_time │\n",
       "│ ---            ┆ ---        ┆ ---       ┆ ---      ┆ ---           │\n",
       "│ i64            ┆ str        ┆ i64       ┆ i64      ┆ f64           │\n",
       "╞════════════════╪════════════╪═══════════╪══════════╪═══════════════╡\n",
       "│ 1              ┆ target     ┆ 1         ┆ 1        ┆ 1.5           │\n",
       "│ 1              ┆ lure       ┆ 2         ┆ 0        ┆ 2.3           │\n",
       "│ 1              ┆ target     ┆ 2         ┆ 1        ┆ 1.7           │\n",
       "│ 1              ┆ target     ┆ 1         ┆ 0        ┆ 2.2           │\n",
       "│ 1              ┆ lure       ┆ 2         ┆ 1        ┆ 1.8           │\n",
       "└────────────────┴────────────┴───────────┴──────────┴───────────────┘"
      ]
     },
     "execution_count": 16,
     "metadata": {},
     "output_type": "execute_result"
    }
   ],
   "source": [
    "study = pl.read_csv(\"study.csv\", null_values=\"n/a\").drop_nulls()\n",
    "mean_rt = None\n",
    "study.head()  # display part of the DataFrame for reference"
   ]
  },
  {
   "cell_type": "markdown",
   "metadata": {},
   "source": [
    "### Answer"
   ]
  },
  {
   "cell_type": "code",
   "execution_count": 89,
   "metadata": {},
   "outputs": [],
   "source": [
    "mean_rt = (\n",
    "    study\n",
    "    .with_columns(\n",
    "        pl.col(\"item_type\").cast(pl.Utf8).replace({\"1\": \"word\", \"2\": \"picture\"}),\n",
    "        pl.col(\"response\").cast(pl.Utf8).replace({\"1\": \"yes\", \"0\": \"no\"})\n",
    "    )\n",
    "    .group_by([\"participant_id\", \"item_type\", \"response\"])\n",
    "    .agg(pl.col(\"response_time\").mean())\n",
    ")"
   ]
  },
  {
   "cell_type": "markdown",
   "metadata": {},
   "source": [
    "### Result"
   ]
  },
  {
   "cell_type": "code",
   "execution_count": 92,
   "metadata": {},
   "outputs": [
    {
     "data": {
      "text/html": [
       "<div><style>\n",
       ".dataframe > thead > tr,\n",
       ".dataframe > tbody > tr {\n",
       "  text-align: right;\n",
       "  white-space: pre-wrap;\n",
       "}\n",
       "</style>\n",
       "<small>shape: (13, 4)</small><table border=\"1\" class=\"dataframe\"><thead><tr><th>participant_id</th><th>item_type</th><th>response</th><th>response_time</th></tr><tr><td>i64</td><td>str</td><td>str</td><td>f64</td></tr></thead><tbody><tr><td>1</td><td>&quot;picture&quot;</td><td>&quot;no&quot;</td><td>2.3</td></tr><tr><td>1</td><td>&quot;picture&quot;</td><td>&quot;yes&quot;</td><td>1.7</td></tr><tr><td>1</td><td>&quot;word&quot;</td><td>null</td><td>null</td></tr><tr><td>1</td><td>&quot;word&quot;</td><td>&quot;no&quot;</td><td>2.2</td></tr><tr><td>1</td><td>&quot;word&quot;</td><td>&quot;yes&quot;</td><td>1.5</td></tr><tr><td>2</td><td>&quot;picture&quot;</td><td>&quot;no&quot;</td><td>2.0</td></tr><tr><td>2</td><td>&quot;picture&quot;</td><td>&quot;yes&quot;</td><td>1.4</td></tr><tr><td>2</td><td>&quot;word&quot;</td><td>&quot;yes&quot;</td><td>1.7</td></tr><tr><td>3</td><td>&quot;picture&quot;</td><td>null</td><td>null</td></tr><tr><td>3</td><td>&quot;picture&quot;</td><td>&quot;no&quot;</td><td>2.8</td></tr><tr><td>3</td><td>&quot;picture&quot;</td><td>&quot;yes&quot;</td><td>2.05</td></tr><tr><td>3</td><td>&quot;word&quot;</td><td>&quot;no&quot;</td><td>2.4</td></tr><tr><td>3</td><td>&quot;word&quot;</td><td>&quot;yes&quot;</td><td>2.033333</td></tr></tbody></table></div>"
      ],
      "text/plain": [
       "shape: (13, 4)\n",
       "┌────────────────┬───────────┬──────────┬───────────────┐\n",
       "│ participant_id ┆ item_type ┆ response ┆ response_time │\n",
       "│ ---            ┆ ---       ┆ ---      ┆ ---           │\n",
       "│ i64            ┆ str       ┆ str      ┆ f64           │\n",
       "╞════════════════╪═══════════╪══════════╪═══════════════╡\n",
       "│ 1              ┆ picture   ┆ no       ┆ 2.3           │\n",
       "│ 1              ┆ picture   ┆ yes      ┆ 1.7           │\n",
       "│ 1              ┆ word      ┆ null     ┆ null          │\n",
       "│ 1              ┆ word      ┆ no       ┆ 2.2           │\n",
       "│ 1              ┆ word      ┆ yes      ┆ 1.5           │\n",
       "│ 2              ┆ picture   ┆ no       ┆ 2.0           │\n",
       "│ 2              ┆ picture   ┆ yes      ┆ 1.4           │\n",
       "│ 2              ┆ word      ┆ yes      ┆ 1.7           │\n",
       "│ 3              ┆ picture   ┆ null     ┆ null          │\n",
       "│ 3              ┆ picture   ┆ no       ┆ 2.8           │\n",
       "│ 3              ┆ picture   ┆ yes      ┆ 2.05          │\n",
       "│ 3              ┆ word      ┆ no       ┆ 2.4           │\n",
       "│ 3              ┆ word      ┆ yes      ┆ 2.033333      │\n",
       "└────────────────┴───────────┴──────────┴───────────────┘"
      ]
     },
     "metadata": {},
     "output_type": "display_data"
    },
    {
     "ename": "AssertionError",
     "evalue": "",
     "output_type": "error",
     "traceback": [
      "\u001b[31m---------------------------------------------------------------------------\u001b[39m",
      "\u001b[31mAssertionError\u001b[39m                            Traceback (most recent call last)",
      "\u001b[36mCell\u001b[39m\u001b[36m \u001b[39m\u001b[32mIn[92]\u001b[39m\u001b[32m, line 10\u001b[39m\n\u001b[32m      8\u001b[39m \u001b[38;5;66;03m# this should not throw any errors\u001b[39;00m\n\u001b[32m      9\u001b[39m \u001b[38;5;28;01massert\u001b[39;00m \u001b[38;5;28msorted\u001b[39m[\u001b[33m\"\u001b[39m\u001b[33mitem_type\u001b[39m\u001b[33m\"\u001b[39m][:\u001b[32m4\u001b[39m].equals(pl.Series([\u001b[33m\"\u001b[39m\u001b[33mpicture\u001b[39m\u001b[33m\"\u001b[39m, \u001b[33m\"\u001b[39m\u001b[33mpicture\u001b[39m\u001b[33m\"\u001b[39m, \u001b[33m\"\u001b[39m\u001b[33mword\u001b[39m\u001b[33m\"\u001b[39m, \u001b[33m\"\u001b[39m\u001b[33mword\u001b[39m\u001b[33m\"\u001b[39m]))\n\u001b[32m---> \u001b[39m\u001b[32m10\u001b[39m \u001b[38;5;28;01massert\u001b[39;00m \u001b[38;5;28msorted\u001b[39m[\u001b[33m\"\u001b[39m\u001b[33mresponse\u001b[39m\u001b[33m\"\u001b[39m][:\u001b[32m4\u001b[39m].equals(pl.Series([\u001b[33m\"\u001b[39m\u001b[33mno\u001b[39m\u001b[33m\"\u001b[39m, \u001b[33m\"\u001b[39m\u001b[33myes\u001b[39m\u001b[33m\"\u001b[39m, \u001b[33m\"\u001b[39m\u001b[33mno\u001b[39m\u001b[33m\"\u001b[39m, \u001b[33m\"\u001b[39m\u001b[33myes\u001b[39m\u001b[33m\"\u001b[39m]))\n\u001b[32m     11\u001b[39m \u001b[38;5;28;01massert\u001b[39;00m \u001b[38;5;28msorted\u001b[39m[\u001b[33m\"\u001b[39m\u001b[33mresponse_time\u001b[39m\u001b[33m\"\u001b[39m].round(\u001b[32m1\u001b[39m).equals(\n\u001b[32m     12\u001b[39m     pl.Series([\u001b[32m2.3\u001b[39m, \u001b[32m1.7\u001b[39m, \u001b[32m2.2\u001b[39m, \u001b[32m1.5\u001b[39m, \u001b[32m2.0\u001b[39m, \u001b[32m1.4\u001b[39m, \u001b[32m1.7\u001b[39m, \u001b[32m2.8\u001b[39m, \u001b[32m2.1\u001b[39m, \u001b[32m2.4\u001b[39m, \u001b[32m2.0\u001b[39m])\n\u001b[32m     13\u001b[39m )\n",
      "\u001b[31mAssertionError\u001b[39m: "
     ]
    }
   ],
   "source": [
    "vars = [mean_rt]\n",
    "if all([v is not None for v in vars]):\n",
    "    # this should print your variables\n",
    "    sorted = mean_rt.sort(\"participant_id\", \"item_type\", \"response\")\n",
    "    with pl.Config(tbl_rows=50):\n",
    "        display(sorted)\n",
    "\n",
    "    # this should not throw any errors\n",
    "    assert sorted[\"item_type\"][:4].equals(pl.Series([\"picture\", \"picture\", \"word\", \"word\"]))\n",
    "    assert sorted[\"response\"][:4].equals(pl.Series([\"no\", \"yes\", \"no\", \"yes\"]))\n",
    "    assert sorted[\"response_time\"].round(1).equals(\n",
    "        pl.Series([2.3, 1.7, 2.2, 1.5, 2.0, 1.4, 1.7, 2.8, 2.1, 2.4, 2.0])\n",
    "    )"
   ]
  },
  {
   "cell_type": "markdown",
   "metadata": {},
   "source": [
    "## Problem (graduate students): cleaning, filtering, and aggregating (6 points)\n",
    "\n",
    "### Import data and run basic cleaning (2 points)\n",
    "\n",
    "Import the `datasets` module from the `datascipsych` package. Get the path to the Osth & Fox (2019) dataset using `datasets.get_dataset_file(\"Osth2019\")` and load the data using `pl.read_csv`. Use the `datasets.clean_osth` function to recode null values and add a `probe_type` column. Assign the cleaned dataset to a variabled called `cleaned`.\n",
    "\n",
    "### Filter the data to get test phase data (2 points)\n",
    "\n",
    "Filter the `cleaned` DataFrame to get just test-phase data and drop trials where `response` is `null`. Assign your result to a variabled called `test`.\n",
    "\n",
    "### Calculate mean response time by condition (2 points)\n",
    "\n",
    "For the `test` DataFrame, recode the `response` column so that `1` is now `\"yes\"` and `0` is now `\"no\"`. Calculate mean response time for each combination of probe type and response. Assign the result to a variable called `rt`."
   ]
  },
  {
   "cell_type": "markdown",
   "metadata": {},
   "source": [
    "### Setup"
   ]
  },
  {
   "cell_type": "code",
   "execution_count": null,
   "metadata": {},
   "outputs": [],
   "source": [
    "cleaned = None\n",
    "test = None\n",
    "rt = None"
   ]
  },
  {
   "cell_type": "markdown",
   "metadata": {},
   "source": [
    "### Answer"
   ]
  },
  {
   "cell_type": "code",
   "execution_count": null,
   "metadata": {},
   "outputs": [],
   "source": [
    "# your code here"
   ]
  },
  {
   "cell_type": "markdown",
   "metadata": {},
   "source": [
    "### Result"
   ]
  },
  {
   "cell_type": "code",
   "execution_count": null,
   "metadata": {},
   "outputs": [],
   "source": [
    "vars = [cleaned, test, rt]\n",
    "if all([v is not None for v in vars]):\n",
    "    # this should print your variables\n",
    "    display(cleaned)\n",
    "    display(test)\n",
    "    display(rt)\n",
    "\n",
    "    # this should not throw any errors\n",
    "    assert cleaned[\"response\"].null_count() == 53796\n",
    "    assert (test[\"phase\"] == \"test\").all()\n",
    "    assert test[\"response\"].null_count() == 0\n",
    "    assert rt.sort(\"response\", \"probe_type\")[\"RT\"].round(2).equals(\n",
    "        pl.Series([1.40, 1.28, 1.36, 1.27])\n",
    "    )"
   ]
  },
  {
   "cell_type": "markdown",
   "metadata": {},
   "source": [
    "## Problem (graduate students): joining datasets (2 points)\n",
    "\n",
    "Read about dataset [joins](https://docs.pola.rs/user-guide/transformations/joins/) in Polars. There are many options for joining datasets together; we will use a simple *Equi Inner* join.\n",
    "\n",
    "Say we have separately calculated mean response time and mean accuracy for a set of participants, and now we want to get that information together in one DataFrame. Take the `response_time` and `accuracy` DataFrames below and join them based on the `participant_id` column. Assign the result to a variable called `stats`.\n",
    "\n",
    "The joined DataFrame should have the following data (the order of rows and columns may vary, depending on how you do the join):\n",
    "\n",
    "| participant_id | response_time | accuracy |\n",
    "| -------------- | ------------- | -------- |\n",
    "| 01             | 1.2           | 0.9      |\n",
    "| 02             | 1.5           | 0.75     |\n",
    "| 03             | 1.7           | 0.65     |"
   ]
  },
  {
   "cell_type": "markdown",
   "metadata": {},
   "source": [
    "### Setup"
   ]
  },
  {
   "cell_type": "code",
   "execution_count": null,
   "metadata": {},
   "outputs": [
    {
     "data": {
      "text/html": [
       "<div><style>\n",
       ".dataframe > thead > tr,\n",
       ".dataframe > tbody > tr {\n",
       "  text-align: right;\n",
       "  white-space: pre-wrap;\n",
       "}\n",
       "</style>\n",
       "<small>shape: (3, 2)</small><table border=\"1\" class=\"dataframe\"><thead><tr><th>participant_id</th><th>response_time</th></tr><tr><td>str</td><td>f64</td></tr></thead><tbody><tr><td>&quot;03&quot;</td><td>1.7</td></tr><tr><td>&quot;02&quot;</td><td>1.5</td></tr><tr><td>&quot;01&quot;</td><td>1.2</td></tr></tbody></table></div>"
      ],
      "text/plain": [
       "shape: (3, 2)\n",
       "┌────────────────┬───────────────┐\n",
       "│ participant_id ┆ response_time │\n",
       "│ ---            ┆ ---           │\n",
       "│ str            ┆ f64           │\n",
       "╞════════════════╪═══════════════╡\n",
       "│ 03             ┆ 1.7           │\n",
       "│ 02             ┆ 1.5           │\n",
       "│ 01             ┆ 1.2           │\n",
       "└────────────────┴───────────────┘"
      ]
     },
     "metadata": {},
     "output_type": "display_data"
    },
    {
     "data": {
      "text/html": [
       "<div><style>\n",
       ".dataframe > thead > tr,\n",
       ".dataframe > tbody > tr {\n",
       "  text-align: right;\n",
       "  white-space: pre-wrap;\n",
       "}\n",
       "</style>\n",
       "<small>shape: (3, 2)</small><table border=\"1\" class=\"dataframe\"><thead><tr><th>participant_id</th><th>accuracy</th></tr><tr><td>str</td><td>f64</td></tr></thead><tbody><tr><td>&quot;01&quot;</td><td>0.9</td></tr><tr><td>&quot;02&quot;</td><td>0.75</td></tr><tr><td>&quot;03&quot;</td><td>0.65</td></tr></tbody></table></div>"
      ],
      "text/plain": [
       "shape: (3, 2)\n",
       "┌────────────────┬──────────┐\n",
       "│ participant_id ┆ accuracy │\n",
       "│ ---            ┆ ---      │\n",
       "│ str            ┆ f64      │\n",
       "╞════════════════╪══════════╡\n",
       "│ 01             ┆ 0.9      │\n",
       "│ 02             ┆ 0.75     │\n",
       "│ 03             ┆ 0.65     │\n",
       "└────────────────┴──────────┘"
      ]
     },
     "metadata": {},
     "output_type": "display_data"
    }
   ],
   "source": [
    "response_time = pl.DataFrame(\n",
    "    {\n",
    "        \"participant_id\": [\"03\", \"02\", \"01\"],\n",
    "        \"response_time\": [1.7, 1.5, 1.2],\n",
    "    }\n",
    ")\n",
    "accuracy = pl.DataFrame(\n",
    "    {\n",
    "        \"participant_id\": [\"01\", \"02\", \"03\"],\n",
    "        \"accuracy\": [0.9, 0.75, 0.65],\n",
    "    }\n",
    ")\n",
    "stats = None\n",
    "display(response_time)\n",
    "display(accuracy)"
   ]
  },
  {
   "cell_type": "markdown",
   "metadata": {},
   "source": [
    "### Answer"
   ]
  },
  {
   "cell_type": "code",
   "execution_count": null,
   "metadata": {},
   "outputs": [],
   "source": [
    "# your code here"
   ]
  },
  {
   "cell_type": "markdown",
   "metadata": {},
   "source": [
    "### Result"
   ]
  },
  {
   "cell_type": "code",
   "execution_count": null,
   "metadata": {},
   "outputs": [],
   "source": [
    "vars = [stats]\n",
    "if all([v is not None for v in vars]):\n",
    "    # this should print your variables\n",
    "    display(stats)\n",
    "\n",
    "    # this should not throw any errors\n",
    "    sorted = stats.sort(\"participant_id\")\n",
    "    assert sorted[\"participant_id\"].equals(pl.Series([\"01\", \"02\", \"03\"]))\n",
    "    assert sorted[\"response_time\"].equals(pl.Series([1.2, 1.5, 1.7]))\n",
    "    assert sorted[\"accuracy\"].equals(pl.Series([0.9, 0.75, 0.65]))"
   ]
  }
 ],
 "metadata": {
  "kernelspec": {
   "display_name": ".venv",
   "language": "python",
   "name": "python3"
  },
  "language_info": {
   "codemirror_mode": {
    "name": "ipython",
    "version": 3
   },
   "file_extension": ".py",
   "mimetype": "text/x-python",
   "name": "python",
   "nbconvert_exporter": "python",
   "pygments_lexer": "ipython3",
   "version": "3.12.9"
  }
 },
 "nbformat": 4,
 "nbformat_minor": 2
}
